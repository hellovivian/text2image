{
 "cells": [
  {
   "cell_type": "code",
   "execution_count": 1,
   "id": "756bf381",
   "metadata": {},
   "outputs": [],
   "source": [
    "import threading\n",
    "import numpy as np\n",
    "import torch\n",
    "import torchvision\n",
    "import torchvision.transforms as transforms\n",
    "import torch.nn.functional as F\n",
    "\n",
    "from torch.autograd import Variable\n",
    "\n",
    "from torch.utils.data import TensorDataset, DataLoader\n",
    "import matplotlib.pyplot as plt\n",
    "from matplotlib.colors import LinearSegmentedColormap\n",
    "import math\n",
    "import random\n",
    "from urllib.request import urlopen\n",
    "from tqdm import tqdm\n",
    "import sys\n",
    "import os\n",
    "sys.path.append('taming-transformers')\n",
    "from omegaconf import OmegaConf\n",
    "from taming.models import cond_transformer, vqgan\n",
    "import torch\n",
    "from torch import nn, optim\n",
    "from torch.nn import functional as F\n",
    "from torchvision import transforms\n",
    "from torchvision.transforms import functional as TF\n",
    "from torch.cuda import get_device_properties\n",
    "torch.backends.cudnn.benchmark = False\n",
    "from torch_optimizer import DiffGrad, AdamP, RAdam\n",
    "from CLIP import clip\n",
    "import kornia.augmentation as K\n",
    "import imageio\n",
    "from PIL import ImageFile, Image, PngImagePlugin, ImageChops\n",
    "ImageFile.LOAD_TRUNCATED_IMAGES = True\n",
    "from subprocess import Popen, PIPE\n",
    "import re\n",
    "\n",
    "import sklearn\n",
    "from sklearn import manifold\n",
    "import umap"
   ]
  },
  {
   "cell_type": "code",
   "execution_count": 2,
   "id": "6173a7b2",
   "metadata": {},
   "outputs": [
    {
     "data": {
      "text/plain": [
       "['RN50', 'RN101', 'RN50x4', 'RN50x16', 'ViT-B/32', 'ViT-B/16']"
      ]
     },
     "execution_count": 2,
     "metadata": {},
     "output_type": "execute_result"
    }
   ],
   "source": [
    "clip.available_models()"
   ]
  },
  {
   "cell_type": "code",
   "execution_count": 3,
   "id": "a4148f2b",
   "metadata": {},
   "outputs": [],
   "source": [
    "device = torch.device(\"cuda:0\" if torch.cuda.is_available() else \"cpu\")"
   ]
  },
  {
   "cell_type": "code",
   "execution_count": 4,
   "id": "011101d8",
   "metadata": {},
   "outputs": [],
   "source": [
    "model, preprocess = clip.load('ViT-B/32', device)"
   ]
  },
  {
   "cell_type": "code",
   "execution_count": 5,
   "id": "6e7930cb",
   "metadata": {},
   "outputs": [],
   "source": [
    "class Hook:\n",
    "    \"\"\"Attaches to a module and records its activations and gradients.\"\"\"\n",
    "\n",
    "    def __init__(self, module: nn.Module):\n",
    "        self.data = None\n",
    "        self.hook = module.register_forward_hook(self.save_grad)\n",
    "        \n",
    "    def save_grad(self, module, input, output):\n",
    "        self.data = output\n",
    "        output.requires_grad_(True)\n",
    "        output.retain_grad()\n",
    "        \n",
    "    def __enter__(self):\n",
    "        return self\n",
    "    \n",
    "    def __exit__(self, exc_type, exc_value, exc_traceback):\n",
    "        self.hook.remove()\n",
    "        \n",
    "    @property\n",
    "    def activation(self) -> torch.Tensor:\n",
    "        return self.data\n",
    "    \n",
    "    @property\n",
    "    def gradient(self) -> torch.Tensor:\n",
    "        return self.data.grad"
   ]
  },
  {
   "cell_type": "code",
   "execution_count": 6,
   "id": "c1b79b36",
   "metadata": {},
   "outputs": [],
   "source": [
    "class EarlyStopping():\n",
    "    \"\"\"\n",
    "    Early stopping to stop the training when the loss does not improve after\n",
    "    certain epochs.\n",
    "    \"\"\"\n",
    "    def __init__(self, patience=5, min_delta=0):\n",
    "        \"\"\"\n",
    "        :param patience: how many epochs to wait before stopping when loss is\n",
    "               not improving\n",
    "        :param min_delta: minimum difference between new loss and old loss for\n",
    "               new loss to be considered as an improvement\n",
    "        \"\"\"\n",
    "        self.patience = patience\n",
    "        self.min_delta = min_delta\n",
    "        self.counter = 0\n",
    "        self.best_loss = None\n",
    "        self.early_stop = False\n",
    "    def __call__(self, val_loss):\n",
    "        if self.best_loss == None:\n",
    "            self.best_loss = val_loss\n",
    "        elif self.best_loss - val_loss > self.min_delta:\n",
    "            self.best_loss = val_loss\n",
    "            # reset counter if validation loss improves\n",
    "            self.counter = 0\n",
    "        elif self.best_loss - val_loss < self.min_delta:\n",
    "            self.counter += 1\n",
    "            print(f\"INFO: Early stopping counter {self.counter} of {self.patience}\")\n",
    "            if self.counter >= self.patience:\n",
    "                print('INFO: Early stopping')\n",
    "                self.early_stop = True"
   ]
  },
  {
   "cell_type": "code",
   "execution_count": 7,
   "id": "e82a3dfb",
   "metadata": {},
   "outputs": [],
   "source": [
    "# assist from https://web.stanford.edu/~nanbhas/blog/forward-hooks-pytorch/\n",
    "activations = {}\n",
    "gradients = {}\n",
    "def getActivation(name):\n",
    "    # the hook signature \n",
    "    def hook(model, input, output):\n",
    "        \n",
    "        output.requires_grad_(True)\n",
    "        output.retain_grad()\n",
    "        gradients[name] = output.grad\n",
    "        activations[name] = output.detach()\n",
    "    return hook"
   ]
  },
  {
   "cell_type": "code",
   "execution_count": 8,
   "id": "87fe5b6c",
   "metadata": {},
   "outputs": [],
   "source": [
    "hooks = []\n",
    "layers = np.concatenate([[model.visual.conv1], model.visual.transformer.resblocks[1::2]])\n",
    "layernames = np.concatenate([['layer0'], [f'layer{i}' for i in range(1,13,2)]], dtype=str)\n",
    "for l, n in zip(layers, layernames):\n",
    "    hooks.append(l.register_forward_hook(getActivation(n)))"
   ]
  },
  {
   "cell_type": "code",
   "execution_count": 10,
   "id": "fcb2b861",
   "metadata": {},
   "outputs": [],
   "source": [
    "image = preprocess(Image.open(\"data/tyrus.jpg\")).unsqueeze(0).to(device)\n",
    "image_features = model.encode_image(image.cuda())"
   ]
  },
  {
   "cell_type": "code",
   "execution_count": 66,
   "id": "369df7c1",
   "metadata": {},
   "outputs": [],
   "source": [
    "def process_folder(folder_name):\n",
    "    \n",
    "    \n",
    "    folder_files = os.listdir(folder_name)\n",
    "    folder_tensors = torch.vstack([preprocess(Image.open(folder_name + folder_file)).unsqueeze(0).to(device) for folder_file in folder_files])\n",
    "    return folder_tensors"
   ]
  },
  {
   "cell_type": "markdown",
   "id": "26724009",
   "metadata": {},
   "source": [
    "# Collect activations across layers"
   ]
  },
  {
   "cell_type": "code",
   "execution_count": 248,
   "id": "03da12ff",
   "metadata": {},
   "outputs": [],
   "source": [
    "artist_a = process_folder(\"data/tyrus/\")\n",
    "artist_b = process_folder(\"data/rothko/\")"
   ]
  },
  {
   "cell_type": "code",
   "execution_count": 249,
   "id": "1a6ca157",
   "metadata": {},
   "outputs": [],
   "source": [
    "image_tensors = torch.vstack([artist_a, artist_b])\n",
    "text_inputs = [\"style of tyrus wong\"] * len(artist_a) + [\"style of rothko\"] * len(artist_b)\n",
    "text_inputs = [clip.tokenize([text_input]).to(device) for text_input in text_inputs]\n",
    "text_target = torch.vstack([model.encode_text(text_input).float() for text_input in text_inputs])"
   ]
  },
  {
   "cell_type": "code",
   "execution_count": null,
   "id": "391a50ea",
   "metadata": {},
   "outputs": [],
   "source": []
  },
  {
   "cell_type": "code",
   "execution_count": 250,
   "id": "02dd28c4",
   "metadata": {},
   "outputs": [],
   "source": [
    "def get_layer_gradients_activations(image_tensor, text_tensor):\n",
    "    all_layer_gradients = {}\n",
    "    all_layer_activations = {}\n",
    "    for layer, name in zip(layers, layernames):\n",
    "        layer_gradients = []\n",
    "        layer_activations = []\n",
    "        with Hook(layer) as hook:\n",
    "\n",
    "            # Do a forward and backward pass.\n",
    "            output = model.encode_image(image_tensor.unsqueeze(0))\n",
    "            output.backward(text_tensor.unsqueeze(0))\n",
    "\n",
    "            grad = hook.gradient.float()\n",
    "            act = hook.activation.float()\n",
    "            layer_gradients.append(grad)\n",
    "            layer_activations.append(act)\n",
    "        all_layer_gradients[name] = layer_gradients\n",
    "        all_layer_activations[name] = layer_activations\n",
    "    return all_layer_gradients, all_layer_activations"
   ]
  },
  {
   "cell_type": "code",
   "execution_count": 251,
   "id": "8a6c6279",
   "metadata": {},
   "outputs": [
    {
     "data": {
      "text/plain": [
       "<zip at 0x7f9e98645500>"
      ]
     },
     "execution_count": 251,
     "metadata": {},
     "output_type": "execute_result"
    }
   ],
   "source": [
    "zip(image_tensors, text_target)"
   ]
  },
  {
   "cell_type": "code",
   "execution_count": 252,
   "id": "52c327a1",
   "metadata": {},
   "outputs": [
    {
     "name": "stdout",
     "output_type": "stream",
     "text": [
      "torch.Size([3, 224, 224]) torch.Size([512])\n",
      "torch.Size([3, 224, 224]) torch.Size([512])\n",
      "torch.Size([3, 224, 224]) torch.Size([512])\n",
      "torch.Size([3, 224, 224]) torch.Size([512])\n",
      "torch.Size([3, 224, 224]) torch.Size([512])\n",
      "torch.Size([3, 224, 224]) torch.Size([512])\n",
      "torch.Size([3, 224, 224]) torch.Size([512])\n",
      "torch.Size([3, 224, 224]) torch.Size([512])\n",
      "torch.Size([3, 224, 224]) torch.Size([512])\n",
      "torch.Size([3, 224, 224]) torch.Size([512])\n",
      "torch.Size([3, 224, 224]) torch.Size([512])\n",
      "torch.Size([3, 224, 224]) torch.Size([512])\n",
      "torch.Size([3, 224, 224]) torch.Size([512])\n",
      "torch.Size([3, 224, 224]) torch.Size([512])\n",
      "torch.Size([3, 224, 224]) torch.Size([512])\n",
      "torch.Size([3, 224, 224]) torch.Size([512])\n",
      "torch.Size([3, 224, 224]) torch.Size([512])\n",
      "torch.Size([3, 224, 224]) torch.Size([512])\n",
      "torch.Size([3, 224, 224]) torch.Size([512])\n",
      "torch.Size([3, 224, 224]) torch.Size([512])\n",
      "torch.Size([3, 224, 224]) torch.Size([512])\n",
      "torch.Size([3, 224, 224]) torch.Size([512])\n",
      "torch.Size([3, 224, 224]) torch.Size([512])\n"
     ]
    },
    {
     "data": {
      "text/plain": [
       "[None,\n",
       " None,\n",
       " None,\n",
       " None,\n",
       " None,\n",
       " None,\n",
       " None,\n",
       " None,\n",
       " None,\n",
       " None,\n",
       " None,\n",
       " None,\n",
       " None,\n",
       " None,\n",
       " None,\n",
       " None,\n",
       " None,\n",
       " None,\n",
       " None,\n",
       " None,\n",
       " None,\n",
       " None,\n",
       " None]"
      ]
     },
     "execution_count": 252,
     "metadata": {},
     "output_type": "execute_result"
    }
   ],
   "source": [
    "[print(image_tensor.shape, text_tensor.shape) for image_tensor, text_tensor in  zip(image_tensors, text_target) ]"
   ]
  },
  {
   "cell_type": "code",
   "execution_count": 253,
   "id": "27902ebd",
   "metadata": {},
   "outputs": [],
   "source": [
    "def process_batch_gradients_activations(image_tensors, text_target):\n",
    "    all_gradients_activations = {}\n",
    "    ids = range(len(image_tensors))\n",
    "    for image_tensor, text_tensor, file_id in zip(image_tensors, text_target, ids):\n",
    "        all_gradients_activations[file_id] = get_layer_gradients_activations(image_tensor, text_tensor)\n",
    "    return all_gradients_activations"
   ]
  },
  {
   "cell_type": "code",
   "execution_count": 254,
   "id": "631366fc",
   "metadata": {},
   "outputs": [],
   "source": [
    "batch_gradients_activations = process_batch_gradients_activations(image_tensors, text_target)"
   ]
  },
  {
   "cell_type": "code",
   "execution_count": 255,
   "id": "ee7706d9",
   "metadata": {},
   "outputs": [
    {
     "data": {
      "text/plain": [
       "array(['layer0', 'layer1', 'layer3', 'layer5', 'layer7', 'layer9',\n",
       "       'layer11'], dtype='<U7')"
      ]
     },
     "execution_count": 255,
     "metadata": {},
     "output_type": "execute_result"
    }
   ],
   "source": [
    "layernames"
   ]
  },
  {
   "cell_type": "code",
   "execution_count": 256,
   "id": "c0970710",
   "metadata": {},
   "outputs": [
    {
     "data": {
      "text/plain": [
       "dict_keys(['layer0', 'layer1', 'layer3', 'layer5', 'layer7', 'layer9', 'layer11'])"
      ]
     },
     "execution_count": 256,
     "metadata": {},
     "output_type": "execute_result"
    }
   ],
   "source": [
    "batch_gradients_activations[0][0].keys()"
   ]
  },
  {
   "cell_type": "code",
   "execution_count": 257,
   "id": "c2c2ad30",
   "metadata": {},
   "outputs": [],
   "source": [
    "def extract_gradients_for_layer(batch_gradients_activations, layername):\n",
    "    \n",
    "    image_keys = batch_gradients_activations.keys()\n",
    "    gradients_for_layer = [batch_gradients_activations[image_key][0][layername] for image_key in image_keys]\n",
    "    return gradients_for_layer"
   ]
  },
  {
   "cell_type": "code",
   "execution_count": 258,
   "id": "0658ebc8",
   "metadata": {},
   "outputs": [],
   "source": [
    "def extract_activations_for_layer(batch_gradients_activations, layername):\n",
    "    \n",
    "    image_keys = batch_gradients_activations.keys()\n",
    "    activations_for_layer = [batch_gradients_activations[image_key][1][layername] for image_key in image_keys]\n",
    "    return activations_for_layer"
   ]
  },
  {
   "cell_type": "code",
   "execution_count": 259,
   "id": "f1f13bed",
   "metadata": {},
   "outputs": [],
   "source": [
    "import umap"
   ]
  },
  {
   "cell_type": "code",
   "execution_count": 260,
   "id": "0a57c9b4",
   "metadata": {},
   "outputs": [],
   "source": [
    "activations_layer0 = extract_activations_for_layer(batch_gradients_activations, layernames[0])\n",
    "activations_layer1 = extract_activations_for_layer(batch_gradients_activations, layernames[1])\n",
    "activations_layer3 = extract_activations_for_layer(batch_gradients_activations, layernames[2])\n",
    "activations_layer5 = extract_activations_for_layer(batch_gradients_activations, layernames[3])\n",
    "activations_layer7 = extract_activations_for_layer(batch_gradients_activations, layernames[4])\n",
    "activations_layer9 = extract_activations_for_layer(batch_gradients_activations, layernames[5])\n",
    "activations_layer11 = extract_activations_for_layer(batch_gradients_activations, layernames[6])"
   ]
  },
  {
   "cell_type": "code",
   "execution_count": 261,
   "id": "af315f85",
   "metadata": {},
   "outputs": [],
   "source": [
    "gradients_layer0 = extract_gradients_for_layer(batch_gradients_activations, layernames[0])\n",
    "gradients_layer1 = extract_gradients_for_layer(batch_gradients_activations, layernames[1])\n",
    "gradients_layer3 = extract_gradients_for_layer(batch_gradients_activations, layernames[2])\n",
    "gradients_layer5 = extract_gradients_for_layer(batch_gradients_activations, layernames[3])\n",
    "gradients_layer7 = extract_gradients_for_layer(batch_gradients_activations, layernames[4])\n",
    "gradients_layer9 = extract_gradients_for_layer(batch_gradients_activations, layernames[5])\n",
    "gradients_layer11 = extract_gradients_for_layer(batch_gradients_activations, layernames[6])"
   ]
  },
  {
   "cell_type": "code",
   "execution_count": 295,
   "id": "e35c7512",
   "metadata": {},
   "outputs": [],
   "source": [
    "gradient = gradients_layer0[2][0]"
   ]
  },
  {
   "cell_type": "code",
   "execution_count": 309,
   "id": "7514b0dd",
   "metadata": {},
   "outputs": [
    {
     "data": {
      "text/plain": [
       "(50, 1, 768)"
      ]
     },
     "execution_count": 309,
     "metadata": {},
     "output_type": "execute_result"
    }
   ],
   "source": [
    "activations_layer11[2][0].cpu().detach().numpy().shape"
   ]
  },
  {
   "cell_type": "code",
   "execution_count": 310,
   "id": "7cf8de7b",
   "metadata": {},
   "outputs": [],
   "source": [
    "def flatten_activations(activation_for_layer):\n",
    "    activation_for_layer = [activation[0].cpu().detach().numpy()  for activation in activation_for_layer]\n",
    "    activation_for_layer = np.vstack([activation.flatten() for activation in activation_for_layer])\n",
    "    return activation_for_layer\n",
    "\n",
    "# def flatten_activations(activation_for_layer):\n",
    "#     activation_for_layer = [activation[0][0].cpu().detach().numpy()  for activation in activation_for_layer]\n",
    "#     activation_for_layer = np.vstack([activation.flatten() for activation in activation_for_layer])\n",
    "#     return activation_for_layer"
   ]
  },
  {
   "cell_type": "code",
   "execution_count": 311,
   "id": "b7547d4e",
   "metadata": {},
   "outputs": [],
   "source": [
    "c = ['r'] * len(artist_a) + ['b'] * len(artist_b)"
   ]
  },
  {
   "cell_type": "code",
   "execution_count": 312,
   "id": "c4ba2618",
   "metadata": {},
   "outputs": [],
   "source": [
    "flattened_activations = flatten_activations(activations_layer11)\n",
    "standard_embedding = umap.UMAP(random_state=42).fit_transform(flattened_activations)\n",
    "#plt.scatter(standard_embedding[:, 0], standard_embedding[:, 1], c=mnist.target.astype(int), s=0.1, cmap='Spectral');"
   ]
  },
  {
   "cell_type": "code",
   "execution_count": 313,
   "id": "18c6de9c",
   "metadata": {},
   "outputs": [
    {
     "data": {
      "image/png": "[encoded data removed]",
      "text/plain": [
       "<Figure size 432x288 with 1 Axes>"
      ]
     },
     "metadata": {
      "needs_background": "light"
     },
     "output_type": "display_data"
    }
   ],
   "source": [
    "plt.scatter(standard_embedding[:, 0], standard_embedding[:, 1], c=c, s=10, cmap='Spectral');"
   ]
  },
  {
   "cell_type": "code",
   "execution_count": 314,
   "id": "a575dfb9",
   "metadata": {},
   "outputs": [
    {
     "data": {
      "text/plain": [
       "(23, 38400)"
      ]
     },
     "execution_count": 314,
     "metadata": {},
     "output_type": "execute_result"
    }
   ],
   "source": [
    "flattened_activations.shape"
   ]
  },
  {
   "cell_type": "code",
   "execution_count": 315,
   "id": "2c34bc7c",
   "metadata": {},
   "outputs": [],
   "source": [
    "tsne = manifold.TSNE(2)"
   ]
  },
  {
   "cell_type": "code",
   "execution_count": 316,
   "id": "a496a279",
   "metadata": {},
   "outputs": [
    {
     "name": "stderr",
     "output_type": "stream",
     "text": [
      "/root/anaconda3/envs/replearn/lib/python3.9/site-packages/sklearn/manifold/_t_sne.py:780: FutureWarning: The default initialization in TSNE will change from 'random' to 'pca' in 1.2.\n",
      "  warnings.warn(\n",
      "/root/anaconda3/envs/replearn/lib/python3.9/site-packages/sklearn/manifold/_t_sne.py:790: FutureWarning: The default learning rate in TSNE will change from 200.0 to 'auto' in 1.2.\n",
      "  warnings.warn(\n"
     ]
    }
   ],
   "source": [
    "tsne_embedding = tsne.fit_transform(flattened_activations)"
   ]
  },
  {
   "cell_type": "code",
   "execution_count": 317,
   "id": "34b96b08",
   "metadata": {},
   "outputs": [
    {
     "data": {
      "text/plain": [
       "(23, 2)"
      ]
     },
     "execution_count": 317,
     "metadata": {},
     "output_type": "execute_result"
    }
   ],
   "source": [
    "tsne_embedding.shape"
   ]
  },
  {
   "cell_type": "code",
   "execution_count": 318,
   "id": "1623a243",
   "metadata": {},
   "outputs": [
    {
     "data": {
      "image/png": "[encoded data removed]",
      "text/plain": [
       "<Figure size 432x288 with 1 Axes>"
      ]
     },
     "metadata": {
      "needs_background": "light"
     },
     "output_type": "display_data"
    }
   ],
   "source": [
    "plt.scatter(tsne_embedding[:, 0], tsne_embedding[:, 1], c=c, s=10, cmap='Spectral');"
   ]
  },
  {
   "cell_type": "markdown",
   "id": "16461be0",
   "metadata": {},
   "source": [
    "# Last layer"
   ]
  },
  {
   "cell_type": "code",
   "execution_count": 319,
   "id": "33b434c7",
   "metadata": {},
   "outputs": [],
   "source": [
    "encoded_image_tensors = torch.vstack([model.encode_image(image_tensor.unsqueeze(0)) for image_tensor in image_tensors])"
   ]
  },
  {
   "cell_type": "code",
   "execution_count": 320,
   "id": "09981406",
   "metadata": {},
   "outputs": [
    {
     "data": {
      "text/plain": [
       "tensor([[-0.4009, -0.0471,  0.2037,  ...,  0.7637, -0.2610,  0.1206],\n",
       "        [ 0.3325, -0.1918, -0.2485,  ...,  0.2260, -0.2251,  0.2578],\n",
       "        [-0.2742,  0.0750,  0.1445,  ...,  0.3491, -0.1890, -0.1177],\n",
       "        ...,\n",
       "        [ 0.5503,  0.0839, -0.0478,  ...,  0.5933, -0.1561,  0.2373],\n",
       "        [ 0.4314, -0.0501,  0.1462,  ..., -0.0473, -0.0171,  0.1033],\n",
       "        [ 0.4434, -0.2498, -0.0593,  ...,  0.4988,  0.0841, -0.0356]],\n",
       "       device='cuda:0', dtype=torch.float16, grad_fn=<CatBackward>)"
      ]
     },
     "execution_count": 320,
     "metadata": {},
     "output_type": "execute_result"
    }
   ],
   "source": [
    "encoded_image_tensors"
   ]
  },
  {
   "cell_type": "code",
   "execution_count": 331,
   "id": "2745f856",
   "metadata": {},
   "outputs": [
    {
     "data": {
      "image/png": "[encoded data removed]",
      "text/plain": [
       "<Figure size 432x288 with 1 Axes>"
      ]
     },
     "metadata": {
      "needs_background": "light"
     },
     "output_type": "display_data"
    }
   ],
   "source": [
    "standard_embedding = umap.UMAP(random_state=32).fit_transform(encoded_image_tensors.cpu().detach().numpy())\n",
    "plt.scatter(standard_embedding[:, 0], standard_embedding[:, 1], c=c, s=10, cmap='Spectral');"
   ]
  },
  {
   "cell_type": "code",
   "execution_count": 332,
   "id": "6558d8e3",
   "metadata": {},
   "outputs": [
    {
     "data": {
      "image/png": "[encoded data removed]",
      "text/plain": [
       "<Figure size 432x288 with 1 Axes>"
      ]
     },
     "metadata": {
      "needs_background": "light"
     },
     "output_type": "display_data"
    }
   ],
   "source": [
    "tsne_embedding = tsne.fit_transform(encoded_image_tensors.cpu().detach().numpy())\n",
    "plt.scatter(tsne_embedding[:, 0], tsne_embedding[:, 1], c=c, s=10, cmap='Spectral');"
   ]
  },
  {
   "cell_type": "code",
   "execution_count": 328,
   "id": "0a5e6a3c",
   "metadata": {
    "scrolled": true
   },
   "outputs": [
    {
     "name": "stderr",
     "output_type": "stream",
     "text": [
      "usage: ipykernel_launcher.py [-h] [-p PROMPTS] [-ip IMAGE_PROMPTS]\n",
      "                             [-i MAX_ITERATIONS] [-se DISPLAY_FREQ]\n",
      "                             [-s SIZE SIZE] [-ii INIT_IMAGE] [-in INIT_NOISE]\n",
      "                             [-iw INIT_WEIGHT] [-m CLIP_MODEL]\n",
      "                             [-conf VQGAN_CONFIG] [-ckpt VQGAN_CHECKPOINT]\n",
      "                             [-nps [NOISE_PROMPT_SEEDS ...]]\n",
      "                             [-npw [NOISE_PROMPT_WEIGHTS ...]] [-lr STEP_SIZE]\n",
      "                             [-cutm {original,updated,nrupdated,updatedpooling,latest}]\n",
      "                             [-cuts CUTN] [-cutp CUT_POW] [-sd SEED]\n",
      "                             [-opt {Adam,AdamW,Adagrad,Adamax,DiffGrad,AdamP,RAdam,RMSprop}]\n",
      "                             [-o OUTPUT] [-vid] [-zvid] [-zs ZOOM_START]\n",
      "                             [-zse ZOOM_FREQUENCY] [-zsc ZOOM_SCALE]\n",
      "                             [-zsx ZOOM_SHIFT_X] [-zsy ZOOM_SHIFT_Y]\n",
      "                             [-cpe PROMPT_FREQUENCY] [-vl VIDEO_LENGTH]\n",
      "                             [-ofps OUTPUT_VIDEO_FPS] [-ifps INPUT_VIDEO_FPS]\n",
      "                             [-d]\n",
      "                             [-aug {Ji,Sh,Gn,Pe,Ro,Af,Et,Ts,Cr,Er,Re} [{Ji,Sh,Gn,Pe,Ro,Af,Et,Ts,Cr,Er,Re} ...]]\n",
      "                             [-vsd VIDEO_STYLE_DIR] [-cd CUDA_DEVICE]\n",
      "ipykernel_launcher.py: error: unrecognized arguments: -f /root/.local/share/jupyter/runtime/kernel-5d1ee2ea-1992-468c-9825-a61fc094dbb1.json\n"
     ]
    },
    {
     "ename": "SystemExit",
     "evalue": "2",
     "output_type": "error",
     "traceback": [
      "An exception has occurred, use %tb to see the full traceback.\n",
      "\u001b[0;31mSystemExit\u001b[0m\u001b[0;31m:\u001b[0m 2\n"
     ]
    }
   ],
   "source": [
    "from generate import vector_quantize\n",
    "#vector_quantize(z.movedim(1, 3), model.quantize.embed.weight).movedim(3, 1)"
   ]
  },
  {
   "cell_type": "code",
   "execution_count": null,
   "id": "036e82c3",
   "metadata": {},
   "outputs": [],
   "source": []
  },
  {
   "cell_type": "markdown",
   "id": "69c36f42",
   "metadata": {},
   "source": [
    "# Todo: Test effect of describing images better"
   ]
  },
  {
   "cell_type": "code",
   "execution_count": null,
   "id": "234b1619",
   "metadata": {},
   "outputs": [],
   "source": []
  }
 ],
 "metadata": {
  "kernelspec": {
   "display_name": "Python 3 (ipykernel)",
   "language": "python",
   "name": "python3"
  },
  "language_info": {
   "codemirror_mode": {
    "name": "ipython",
    "version": 3
   },
   "file_extension": ".py",
   "mimetype": "text/x-python",
   "name": "python",
   "nbconvert_exporter": "python",
   "pygments_lexer": "ipython3",
   "version": "3.9.7"
  }
 },
 "nbformat": 4,
 "nbformat_minor": 5
}
