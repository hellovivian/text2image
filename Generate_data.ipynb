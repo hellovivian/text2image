{
 "cells": [
  {
   "cell_type": "code",
   "execution_count": 13,
   "id": "3bc1d677",
   "metadata": {},
   "outputs": [],
   "source": [
    "import pandas as pd\n",
    "import urllib.request\n",
    "import os\n",
    "import shutil\n",
    "import PIL\n",
    "from PIL import Image\n",
    "import tensorflow as tf\n",
    "import socket\n",
    "import random\n",
    "\n",
    "import subprocess\n",
    "import os\n",
    "import argparse\n",
    "from tensorflow.io import gfile\n",
    "import imagenet_and_broden_fetcher as fetcher\n"
   ]
  },
  {
   "cell_type": "code",
   "execution_count": 12,
   "id": "5cd071de",
   "metadata": {},
   "outputs": [],
   "source": [
    "# broden dataset definition\n",
    "#objects, scenes, object parts,textures, and materials in a variety of contexts"
   ]
  },
  {
   "cell_type": "code",
   "execution_count": 4,
   "id": "2160b507",
   "metadata": {},
   "outputs": [],
   "source": [
    "# kImagenetBaseUrl = \"http://imagenet.stanford.edu/api/imagenet.synset.geturls?wnid=\"\n",
    "# kMinFileSize = 10000"
   ]
  },
  {
   "cell_type": "code",
   "execution_count": 2,
   "id": "cdfd4e5d",
   "metadata": {},
   "outputs": [],
   "source": [
    "data_path = \"../dataset/\"\n",
    "kBrodenTexturesPath = 'broden1_224/images/dtd/'\n",
    "broden_textures_path = os.path.join(data_path, kBrodenTexturesPath)"
   ]
  },
  {
   "cell_type": "code",
   "execution_count": 4,
   "id": "94bdf242",
   "metadata": {},
   "outputs": [
    {
     "name": "stdout",
     "output_type": "stream",
     "text": [
      "Counter({'studded': 120, 'zigzagged': 120, 'fibrous': 120, 'waffled': 120, 'marbled': 120, 'lacelike': 120, 'meshed': 120, 'veined': 120, 'polka-dotted': 120, 'bubbly': 120, 'lined': 120, 'woven': 120, 'stratified': 120, 'honeycombed': 120, 'banded': 120, 'gauzy': 120, 'porous': 120, 'scaly': 120, 'cracked': 120, 'knitted': 120, 'flecked': 120, 'spiralled': 120, 'swirly': 120, 'paisley': 120, 'blotchy': 120, 'crosshatched': 120, 'potholed': 120, 'braided': 120, 'cobwebbed': 120, 'matted': 120, 'freckled': 120, 'sprinkled': 120, 'perforated': 120, 'grid': 120, 'striped': 120, 'stained': 120, 'grooved': 120, 'pitted': 120, 'chequered': 120, 'bumpy': 120, 'wrinkled': 120, 'smeared': 120, 'frilly': 120, 'pleated': 120, 'dotted': 120, 'interlaced': 120, 'crystalline': 120})\n"
     ]
    }
   ],
   "source": [
    "#print available concepts \n",
    "from collections import Counter\n",
    "\n",
    "for root, dirs, files in os.walk(broden_textures_path):\n",
    "    files = [a for a in files if \"color\" not in a]\n",
    "    texture_files = Counter([a.split(\"_\")[0] for a in files])\n",
    "print(texture_files)"
   ]
  },
  {
   "cell_type": "code",
   "execution_count": 8,
   "id": "4aa9b09e",
   "metadata": {},
   "outputs": [],
   "source": [
    "#potentially interesting concepts\n",
    "# checkered\n",
    "#(cracked)\n",
    "#dotted\n",
    "#groved \n",
    "#knitted\n",
    "#scaly for fish\n",
    "#smeared for painting\n",
    "#spiraled for painting\n",
    "#veined for plants"
   ]
  },
  {
   "cell_type": "code",
   "execution_count": 5,
   "id": "0743556a",
   "metadata": {},
   "outputs": [],
   "source": [
    "#TODO-- related textures generate similar CAVS?\n",
    "\n",
    "#!mkdir ../dataset/tcav\n",
    "#!mkdir  ../dataset/tcav/concepts\n",
    " \n",
    "conceptsPath = 'tcav/concepts'\n",
    "saving_path = os.path.join(data_path, conceptsPath)"
   ]
  },
  {
   "cell_type": "code",
   "execution_count": 6,
   "id": "6f631202",
   "metadata": {},
   "outputs": [
    {
     "name": "stdout",
     "output_type": "stream",
     "text": [
      "INFO:tensorflow:Using path ../dataset/broden1_224/images/dtd/ for texture: scaly\n",
      "INFO:tensorflow:We have 120 images for the concept scaly\n"
     ]
    }
   ],
   "source": [
    "broden_textures_path = os.path.join(data_path, kBrodenTexturesPath)\n",
    "fetcher.download_texture_to_working_folder(data_path, saving_path,\"scaly\", 100)"
   ]
  },
  {
   "cell_type": "code",
   "execution_count": 7,
   "id": "be32ea3c",
   "metadata": {},
   "outputs": [],
   "source": [
    "imagenet_dataframe = fetcher.make_imagenet_dataframe(\"imagenet_url_map.csv\")\n"
   ]
  },
  {
   "cell_type": "code",
   "execution_count": 14,
   "id": "bc9a9874",
   "metadata": {},
   "outputs": [],
   "source": [
    "def make_concepts_targets_and_randoms(source_dir, saving_path, number_of_images_per_folder, number_of_random_folders):\n",
    "    # Run script to download data to source_dir\n",
    "    if not gfile.exists(source_dir):\n",
    "        gfile.makedirs(source_dir)\n",
    "    if not gfile.exists(os.path.join(source_dir,'broden1_224/')) or not gfile.exists(os.path.join(source_dir,'inception5h')):\n",
    "        subprocess.call(['bash' , 'FetchDataAndModels.sh', source_dir])\n",
    "\n",
    "    # Determine classes that we will fetch\n",
    "   # imagenet_classes = ['zebra']\n",
    "    #broden_concepts = ['striped', 'dotted', 'zigzagged']\n",
    "    broden_concepts = [\"checkered\", \"cracked\", \"dotted\", \"groved\",  \"knitted\", \"scaly\", \"smeared\", \"spiraled\", \"veined\"]\n",
    "    \n",
    "\n",
    "#     # make targets from imagenet\n",
    "#     imagenet_dataframe = fetcher.make_imagenet_dataframe(\"./imagenet_url_map.csv\")\n",
    "#     for image in imagenet_classes:\n",
    "#         fetcher.fetch_imagenet_class(source_dir, image, number_of_images_per_folder, imagenet_dataframe)\n",
    "\n",
    "    # Make concepts from broden\n",
    "    for concept in broden_concepts:\n",
    "        fetcher.download_texture_to_working_folder(broden_path=os.path.join(source_dir, 'broden1_224'),\n",
    "                                                   saving_path=saving_path,\n",
    "                                                   texture_name=concept,\n",
    "                                                   number_of_images=number_of_images_per_folder)\n",
    "\n",
    "    print(\"done with broden generation\")\n",
    "    # Make random folders. If we want to run N random experiments with tcav, we need N+1 folders.\n",
    "    fetcher.generate_random_folders(\n",
    "        working_directory=source_dir,saving_dir = saving_path, random_folder_prefix=\"random120\",\n",
    "        number_of_random_folders=number_of_random_folders+1,\n",
    "        number_of_examples_per_folder=number_of_images_per_folder,\n",
    "        imagenet_dataframe=imagenet_dataframe\n",
    "    )\n"
   ]
  },
  {
   "cell_type": "code",
   "execution_count": 16,
   "id": "1c16c771",
   "metadata": {},
   "outputs": [
    {
     "name": "stdout",
     "output_type": "stream",
     "text": [
      "INFO:tensorflow:Using path ../dataset/broden1_224/broden1_224/images/dtd/ for texture: checkered\n",
      "INFO:tensorflow:Using path ../dataset/broden1_224/broden1_224/images/dtd/ for texture: cracked\n",
      "INFO:tensorflow:Using path ../dataset/broden1_224/broden1_224/images/dtd/ for texture: dotted\n",
      "INFO:tensorflow:Using path ../dataset/broden1_224/broden1_224/images/dtd/ for texture: groved\n",
      "INFO:tensorflow:Using path ../dataset/broden1_224/broden1_224/images/dtd/ for texture: knitted\n",
      "INFO:tensorflow:Using path ../dataset/broden1_224/broden1_224/images/dtd/ for texture: scaly\n",
      "INFO:tensorflow:Using path ../dataset/broden1_224/broden1_224/images/dtd/ for texture: smeared\n",
      "INFO:tensorflow:Using path ../dataset/broden1_224/broden1_224/images/dtd/ for texture: spiraled\n",
      "INFO:tensorflow:Using path ../dataset/broden1_224/broden1_224/images/dtd/ for texture: veined\n",
      "done with broden generation\n"
     ]
    },
    {
     "name": "stderr",
     "output_type": "stream",
     "text": [
      "bash: FetchDataAndModels.sh: No such file or directory\n"
     ]
    },
    {
     "ename": "TypeError",
     "evalue": "generate_random_folders() got an unexpected keyword argument 'saving_dir'",
     "output_type": "error",
     "traceback": [
      "\u001b[0;31m---------------------------------------------------------------------------\u001b[0m",
      "\u001b[0;31mTypeError\u001b[0m                                 Traceback (most recent call last)",
      "\u001b[0;32m/tmp/ipykernel_3811/1317191002.py\u001b[0m in \u001b[0;36m<module>\u001b[0;34m\u001b[0m\n\u001b[0;32m----> 1\u001b[0;31m \u001b[0mmake_concepts_targets_and_randoms\u001b[0m\u001b[0;34m(\u001b[0m\u001b[0mdata_path\u001b[0m\u001b[0;34m,\u001b[0m \u001b[0msaving_path\u001b[0m\u001b[0;34m,\u001b[0m \u001b[0;36m120\u001b[0m\u001b[0;34m,\u001b[0m \u001b[0;36m120\u001b[0m\u001b[0;34m)\u001b[0m\u001b[0;34m\u001b[0m\u001b[0;34m\u001b[0m\u001b[0m\n\u001b[0m",
      "\u001b[0;32m/tmp/ipykernel_3811/3428759787.py\u001b[0m in \u001b[0;36mmake_concepts_targets_and_randoms\u001b[0;34m(source_dir, saving_path, number_of_images_per_folder, number_of_random_folders)\u001b[0m\n\u001b[1;32m     26\u001b[0m     \u001b[0mprint\u001b[0m\u001b[0;34m(\u001b[0m\u001b[0;34m\"done with broden generation\"\u001b[0m\u001b[0;34m)\u001b[0m\u001b[0;34m\u001b[0m\u001b[0;34m\u001b[0m\u001b[0m\n\u001b[1;32m     27\u001b[0m     \u001b[0;31m# Make random folders. If we want to run N random experiments with tcav, we need N+1 folders.\u001b[0m\u001b[0;34m\u001b[0m\u001b[0;34m\u001b[0m\u001b[0m\n\u001b[0;32m---> 28\u001b[0;31m     fetcher.generate_random_folders(\n\u001b[0m\u001b[1;32m     29\u001b[0m         \u001b[0mworking_directory\u001b[0m\u001b[0;34m=\u001b[0m\u001b[0msource_dir\u001b[0m\u001b[0;34m,\u001b[0m\u001b[0msaving_dir\u001b[0m \u001b[0;34m=\u001b[0m \u001b[0msaving_path\u001b[0m\u001b[0;34m,\u001b[0m \u001b[0mrandom_folder_prefix\u001b[0m\u001b[0;34m=\u001b[0m\u001b[0;34m\"random120\"\u001b[0m\u001b[0;34m,\u001b[0m\u001b[0;34m\u001b[0m\u001b[0;34m\u001b[0m\u001b[0m\n\u001b[1;32m     30\u001b[0m         \u001b[0mnumber_of_random_folders\u001b[0m\u001b[0;34m=\u001b[0m\u001b[0mnumber_of_random_folders\u001b[0m\u001b[0;34m+\u001b[0m\u001b[0;36m1\u001b[0m\u001b[0;34m,\u001b[0m\u001b[0;34m\u001b[0m\u001b[0;34m\u001b[0m\u001b[0m\n",
      "\u001b[0;31mTypeError\u001b[0m: generate_random_folders() got an unexpected keyword argument 'saving_dir'"
     ]
    }
   ],
   "source": [
    "make_concepts_targets_and_randoms(data_path, saving_path, 120, 120)\n"
   ]
  },
  {
   "cell_type": "code",
   "execution_count": null,
   "id": "c6c18cb3",
   "metadata": {},
   "outputs": [],
   "source": []
  },
  {
   "cell_type": "code",
   "execution_count": null,
   "id": "8d626116",
   "metadata": {},
   "outputs": [],
   "source": []
  }
 ],
 "metadata": {
  "kernelspec": {
   "display_name": "Python (valreplearn)",
   "language": "python",
   "name": "valreplearn"
  },
  "language_info": {
   "codemirror_mode": {
    "name": "ipython",
    "version": 3
   },
   "file_extension": ".py",
   "mimetype": "text/x-python",
   "name": "python",
   "nbconvert_exporter": "python",
   "pygments_lexer": "ipython3",
   "version": "3.9.7"
  }
 },
 "nbformat": 4,
 "nbformat_minor": 5
}
