{
 "cells": [
  {
   "cell_type": "code",
   "execution_count": 1,
   "id": "b0ec657d",
   "metadata": {},
   "outputs": [],
   "source": [
    "import flask\n",
    "from flask import Flask, send_file, request, jsonify, g\n",
    "from werkzeug.exceptions import BadRequest\n",
    "from werkzeug.utils import secure_filename"
   ]
  },
  {
   "cell_type": "code",
   "execution_count": 2,
   "id": "d8ea5255",
   "metadata": {},
   "outputs": [],
   "source": [
    "app = Flask(__name__)\n",
    "\n",
    "#handles web requests from unity\n",
    "@app.route('/', methods=[\"POST\"])\n",
    "def evaluate():\n",
    "\n",
    "    concept = request.form[\"desired_concept\"]\n",
    "    results = get_imgs_for_concept(concept)\n",
    "    print(results)\n",
    "    return jsonify(results)\n",
    "    "
   ]
  },
  {
   "cell_type": "code",
   "execution_count": 3,
   "id": "138988a3",
   "metadata": {},
   "outputs": [],
   "source": [
    "import requests"
   ]
  },
  {
   "cell_type": "code",
   "execution_count": 4,
   "id": "336a5b5d",
   "metadata": {},
   "outputs": [],
   "source": [
    "import requests\n",
    "import bs4\n",
    "from bs4 import BeautifulSoup\n",
    "import random\n",
    "\n",
    "\n",
    "def get_imgs_for_concept(concept_to_retrieve):\n",
    "    print(concept_to_retrieve)\n",
    "    hyperlink_imgs = {}\n",
    "    response = requests.get(\n",
    "    url=\"https://www.google.com/search?q=\" + concept_to_retrieve + \"&tbm=isch\",\n",
    "    )\n",
    "    soup = BeautifulSoup(response.content, 'html.parser')\n",
    "    hyperlink_imgs[concept_to_retrieve] = []\n",
    "    img_soup = soup.find_all('img')\n",
    "    for i in range(len(img_soup)):\n",
    "        hyperlink_imgs[concept_to_retrieve].append(img_soup[i].attrs['src'])\n",
    "\n",
    "    return hyperlink_imgs"
   ]
  },
  {
   "cell_type": "code",
   "execution_count": 5,
   "id": "eacdd320",
   "metadata": {},
   "outputs": [
    {
     "name": "stdout",
     "output_type": "stream",
     "text": [
      "friendly\n"
     ]
    },
    {
     "data": {
      "text/plain": [
       "{'friendly': ['/images/branding/searchlogo/1x/googlelogo_desk_heirloom_color_150x55dp.gif',\n",
       "  'https://encrypted-tbn0.gstatic.com/images?q=tbn:ANd9GcSS3zc5XH3DuK1Ia4gbykLurTVq88eBTtBfT9RMLWaLpjohRkAIfcHyXxBdMug&s',\n",
       "  'https://encrypted-tbn0.gstatic.com/images?q=tbn:ANd9GcRyvNf2AlAuzF1xlowMECSIzE2Pfm6MLAr8FbC0PSoMsvYuhhTPgQ8jc-ZQCw&s',\n",
       "  'https://encrypted-tbn0.gstatic.com/images?q=tbn:ANd9GcTQtON2xTSlu_7B934VG6O-FbHOlLzq6KRMIOIiBQ8RsO_yVq0T6v3UeN5Dpg&s',\n",
       "  'https://encrypted-tbn0.gstatic.com/images?q=tbn:ANd9GcTxIW3HOROeslurg9D7HLrTosbbiDyb7F1nCH0h7SmkjCaSogOnKpa9nQ8eQ1U&s',\n",
       "  'https://encrypted-tbn0.gstatic.com/images?q=tbn:ANd9GcSPu6fmEBhT8SGL9rNYCC0LnX0njE5z-1PYXy2nLlTRa2z0Ufn0EyLzA6VJsis&s',\n",
       "  'https://encrypted-tbn0.gstatic.com/images?q=tbn:ANd9GcTYO9BZHCRqnTR55aSQqXeyRgn7Z5hhl24rnyo18z-J6BpAO62M6x3nP7da9A&s',\n",
       "  'https://encrypted-tbn0.gstatic.com/images?q=tbn:ANd9GcS2cTbV5KmGr11cVujRS9BBtHYnZlWwVYVMYXpnUYiqnNQYbmfhnDM16kRg4w&s',\n",
       "  'https://encrypted-tbn0.gstatic.com/images?q=tbn:ANd9GcRZXmwQnrWVrEhIjAxbJszVdAC8fnTF5Ezh6VzKwsnH68-h9RvvOULFKyCOFQ&s',\n",
       "  'https://encrypted-tbn0.gstatic.com/images?q=tbn:ANd9GcQpxwyZyUEyXh3-mD-gmr-kF5MDCRTE61Zg8pNAOFuOW9mLpMuBbuDOnyeBGq8&s',\n",
       "  'https://encrypted-tbn0.gstatic.com/images?q=tbn:ANd9GcTlR1myZSbXjxzYWREydZl4rLaDsGdv5YuIK6hxERb2sXYlIokThSerQA3GcvY&s',\n",
       "  'https://encrypted-tbn0.gstatic.com/images?q=tbn:ANd9GcTs2S4OJbnlwcNbJ9nf3MMxNncQZi8pjJul8T7AROS5MY_VuF7aOJlf9z4Q4tc&s',\n",
       "  'https://encrypted-tbn0.gstatic.com/images?q=tbn:ANd9GcRkcHk72BHU2HdcM_dqBIZLJ6SRlGmIp8V5wls6mccArhArWort6nLvz0ioDg&s',\n",
       "  'https://encrypted-tbn0.gstatic.com/images?q=tbn:ANd9GcQqNu1cO4tCFV1FrX8Nz294l7yUf9ITYOkH_CFpBsaRi4GiPgXIo3CHAmP7mgQ&s',\n",
       "  'https://encrypted-tbn0.gstatic.com/images?q=tbn:ANd9GcQuW7YlJwmWDTiHpN98vJ6IGsZhePk6k4mJTL2-6niIlNgNcsT65Sy5aB2B0Q&s',\n",
       "  'https://encrypted-tbn0.gstatic.com/images?q=tbn:ANd9GcTYLI4FV-zf1yoggyboPh9OWFUD372VX8da5ikFAXVSY8JvHhh_bMMRgN8Neg&s',\n",
       "  'https://encrypted-tbn0.gstatic.com/images?q=tbn:ANd9GcTfNYw2rj-LfkvYG5qI-nMMHwFCzUEoqUKcWawyjLE_IF6RgoppUB6l7y3q4A&s',\n",
       "  'https://encrypted-tbn0.gstatic.com/images?q=tbn:ANd9GcRrPqOm9r-Xn6qK8U3alidDIJA1W_ACOTATWlnMMxlG4SpwXu5IwcKgAuWzPq4&s',\n",
       "  'https://encrypted-tbn0.gstatic.com/images?q=tbn:ANd9GcTNmH7RTSuDLI18aMz2Nx8oXoxZIjN9lCrouzoMFCP_HtI5pcYp4xfyCGvetg&s',\n",
       "  'https://encrypted-tbn0.gstatic.com/images?q=tbn:ANd9GcR9Xj1PQQX91_mWj8vQCGmwCiYUfdEnoK28IELKiF4T2K6ak53pHy5xidfDPd8&s',\n",
       "  'https://encrypted-tbn0.gstatic.com/images?q=tbn:ANd9GcTWbqEUy5aFfr9ckpW-EmeWorTa4xXmIOUuSvMV_Hpt7TXrTcobbCAk4ldEIg&s']}"
      ]
     },
     "execution_count": 5,
     "metadata": {},
     "output_type": "execute_result"
    }
   ],
   "source": [
    "get_imgs_for_concept(\"friendly\")"
   ]
  },
  {
   "cell_type": "code",
   "execution_count": null,
   "id": "14d27810",
   "metadata": {},
   "outputs": [
    {
     "name": "stdout",
     "output_type": "stream",
     "text": [
      " * Serving Flask app \"__main__\" (lazy loading)\n",
      " * Environment: production\n",
      "\u001b[31m   WARNING: This is a development server. Do not use it in a production deployment.\u001b[0m\n",
      "\u001b[2m   Use a production WSGI server instead.\u001b[0m\n",
      " * Debug mode: off\n"
     ]
    },
    {
     "name": "stderr",
     "output_type": "stream",
     "text": [
      " * Running on http://0.0.0.0:6688/ (Press CTRL+C to quit)\n"
     ]
    },
    {
     "name": "stdout",
     "output_type": "stream",
     "text": [
      "harlem\n"
     ]
    },
    {
     "name": "stderr",
     "output_type": "stream",
     "text": [
      "127.0.0.1 - - [02/Dec/2021 01:48:14] \"\u001b[37mPOST / HTTP/1.1\u001b[0m\" 200 -\n"
     ]
    },
    {
     "name": "stdout",
     "output_type": "stream",
     "text": [
      "{'harlem': ['/images/branding/searchlogo/1x/googlelogo_desk_heirloom_color_150x55dp.gif', 'https://encrypted-tbn0.gstatic.com/images?q=tbn:ANd9GcQWvQba3unPGPdxuQZQ--0teUit_PkBz-9y2k0MhTgLEoDW3ZsouFU0O0gISQ&s', 'https://encrypted-tbn0.gstatic.com/images?q=tbn:ANd9GcQDf9XRsv3a4c4M3iFSl-k4Ol2DfAXVfy5QZQXu3mGUUGGWWD2lSvSepn4BfXM&s', 'https://encrypted-tbn0.gstatic.com/images?q=tbn:ANd9GcTSKu6S7NuuO14eMgviTYSgr9i1RRF2cDtJFsH5wRkJWJcftqixRKn-YM-ufQ&s', 'https://encrypted-tbn0.gstatic.com/images?q=tbn:ANd9GcQMNy688pZ4tl5saWiUJRqpifVyVdVC6AKeQQO74v_nAzT2w7dglBEC3w8uPLM&s', 'https://encrypted-tbn0.gstatic.com/images?q=tbn:ANd9GcSObwIap08tTaHjj8jvtH5eqybSVCDPgu68wcqxli0QGejRjvKipSehQEyxCg&s', 'https://encrypted-tbn0.gstatic.com/images?q=tbn:ANd9GcRyzTCxrK9Lcfqe370ng7URkHY0hYq42gwN7HfUOf9WiWqoGep_mlbavF6CEg&s', 'https://encrypted-tbn0.gstatic.com/images?q=tbn:ANd9GcQLBfTnnxZKYupD_JZfhSMFPcZR4HwI19ttrNywF3hKWidEspVvWkkMHP1z0A&s', 'https://encrypted-tbn0.gstatic.com/images?q=tbn:ANd9GcSpHPvPdIxugkBq35t8PAKJkEWQFNfhdKPiJb9R-5wZKRjlHdLTtr-uFIX5UA&s', 'https://encrypted-tbn0.gstatic.com/images?q=tbn:ANd9GcStLYPfpREARI2g2KKoyiw_IMiXMg_PoPneTQ7bU1OTSRjhkeTqxldSXGIHi_w&s', 'https://encrypted-tbn0.gstatic.com/images?q=tbn:ANd9GcTidq3dNE-3G3K0J8nNPIpcRfBlT5UMudRgZYJzCAbiOXKE74S50HbG_fpiWTg&s', 'https://encrypted-tbn0.gstatic.com/images?q=tbn:ANd9GcTsKB3PIgeQrhoM007R6aqY1F-yCif_t08ecHqP154ZWgBUlQ6m2UG0hF9zfNg&s', 'https://encrypted-tbn0.gstatic.com/images?q=tbn:ANd9GcQ6pnbHoFvi-SWzqHgU13SlTl7VxSK8CP0wf7oerAvTI4BcnW4kFp8YafH44Q&s', 'https://encrypted-tbn0.gstatic.com/images?q=tbn:ANd9GcSy4-W7W988mibxC3StRJGZu5eTdhgb94K1YOU2whNg1_aaj2gI5pRo1S_RnHU&s', 'https://encrypted-tbn0.gstatic.com/images?q=tbn:ANd9GcRQMVzhVpPK-Jti_piDmaDhpbP_gaHpF210qUfRIi1ENRu0TiRHiSGSeq2Mm_0&s', 'https://encrypted-tbn0.gstatic.com/images?q=tbn:ANd9GcQlrmu_57qy1sTJWuZ8OI0BG70TDdY1vA329IYveOnWKuiwBEPAWIgRKM4iMg&s', 'https://encrypted-tbn0.gstatic.com/images?q=tbn:ANd9GcQDOv8Em2DOUX19PhmQ2QTPrDLEAIVZ9ofgPr36pWBLoYqohsJrl13T1yIsVw&s', 'https://encrypted-tbn0.gstatic.com/images?q=tbn:ANd9GcSUydNztsA9_qTTwYeXLANo2m0lvAp6xOS36KBNQpJ7e20aYQYTVJXV0QbCxQ&s', 'https://encrypted-tbn0.gstatic.com/images?q=tbn:ANd9GcRMSnq8UwiALnTpakfS0w9FX4Znw7ZbTUussAscPUJV2uTk7U3Nnx9sSr_UnwE&s', 'https://encrypted-tbn0.gstatic.com/images?q=tbn:ANd9GcRfpzY31A1UTCw8c0rAnUrDBH4g871-UKuD7aMQjKucF3EWIJPb5lCuE0dYWA&s', 'https://encrypted-tbn0.gstatic.com/images?q=tbn:ANd9GcQKEHl7rF5Xf9rgVklc2ICKmav7u7WAPXtqDbxdtqMh5PZAN0anL8DOT7Tyrek&s']}\n",
      "city\n"
     ]
    },
    {
     "name": "stderr",
     "output_type": "stream",
     "text": [
      "127.0.0.1 - - [02/Dec/2021 01:48:26] \"\u001b[37mPOST / HTTP/1.1\u001b[0m\" 200 -\n"
     ]
    },
    {
     "name": "stdout",
     "output_type": "stream",
     "text": [
      "{'city': ['/images/branding/searchlogo/1x/googlelogo_desk_heirloom_color_150x55dp.gif', 'https://encrypted-tbn0.gstatic.com/images?q=tbn:ANd9GcSmYSCnRLpeExJXQ9iKs74Qrd5Id27gmdTepfu3ksUDaUASpdrIxvhigvLYPw&s', 'https://encrypted-tbn0.gstatic.com/images?q=tbn:ANd9GcQ1vuy-wNcdxfZpvr19X6mcyMlipGRM8Bix4M1_Et9dU5-ZJTNec2ohzHichQ&s', 'https://encrypted-tbn0.gstatic.com/images?q=tbn:ANd9GcQFpdYt8rIYSd_ACx5SUXPb_tpKAGyd0yb3s6q_I1l022X1p5v89D_2SQZVbe8&s', 'https://encrypted-tbn0.gstatic.com/images?q=tbn:ANd9GcT0D1QttONvQcwxa1wUs_mqWH9D0SsVbOz3ZfjdXBy0UEACv4VBiYAdN2jVVQ&s', 'https://encrypted-tbn0.gstatic.com/images?q=tbn:ANd9GcTFskV21KO5zflPNXAnrnq36ii8Pmf6NYvj6X-0Gh35ZEvclR0wtuzMBc6JFQ&s', 'https://encrypted-tbn0.gstatic.com/images?q=tbn:ANd9GcTU_FZTjhSO7KxsVuiacFpgpX9X8oMwtHO4bV3FYQcTnTyTGrkIZPaZxdUH7ZU&s', 'https://encrypted-tbn0.gstatic.com/images?q=tbn:ANd9GcTKT3eXJNcM54t7FEzNwIpmP7qXtpbnQVu_4xiwbeWNTUUvJeT7qVXTKONlS8U&s', 'https://encrypted-tbn0.gstatic.com/images?q=tbn:ANd9GcR5Lk7n_4Mw6NtkPXNW4jaMLcVaQg1SBzAyihZkryu6EKD0-XwyN9QYAunLTA&s', 'https://encrypted-tbn0.gstatic.com/images?q=tbn:ANd9GcSE0n4YUU-plz_mg3JmR4AXHqhMXLOilKPX-cyXfnWwYSyVA6bWjTwarLPYWVg&s', 'https://encrypted-tbn0.gstatic.com/images?q=tbn:ANd9GcQZ9xbSFzUnCEHwmT6pGFaY_BQmUJGALj65iT5j75XQ_vUuXPtCMLk77Wbpfg&s', 'https://encrypted-tbn0.gstatic.com/images?q=tbn:ANd9GcTGJ1uVfCnoF6HrXAyxlg6rWWu__FZjJSN7KgSRTfbWCYm-0PIYxp6L5ISMvxQ&s', 'https://encrypted-tbn0.gstatic.com/images?q=tbn:ANd9GcQxdTZlHhv4Nukl9DX-XQ4NVHtldTYY_YmE1BetzTkCZIEzCLFbG5OY_yd_56I&s', 'https://encrypted-tbn0.gstatic.com/images?q=tbn:ANd9GcQgjS-K_w89uuLpYZw3Q4NJ32Myf2RHAfg900XLOWyRiBryNtJQz9qCW8U74Ms&s', 'https://encrypted-tbn0.gstatic.com/images?q=tbn:ANd9GcTI7swm_WZhZJXfXkIUqocL0XwvabdYofxT24XPXW8vC8pI1Rhnmo9TnQRf1kE&s', 'https://encrypted-tbn0.gstatic.com/images?q=tbn:ANd9GcQ-cT7xF7e0WuFYqM3GsMDRicNgvL6ddQXBnJJSy1EuR8cBVlMwSU9uRRgW7Gs&s', 'https://encrypted-tbn0.gstatic.com/images?q=tbn:ANd9GcSABYdIA3GmgmBtCw6RdhHGTol6YRxjXGVmmglJKIM-yQiCND3HvSNgD4VKHrI&s', 'https://encrypted-tbn0.gstatic.com/images?q=tbn:ANd9GcTcZ9yGVN4F8mU30qmIkzwgoznb_RmauRqo_C7mUTaUt7mzkLcAAK52LmzkTg&s', 'https://encrypted-tbn0.gstatic.com/images?q=tbn:ANd9GcQj4u5iQGCUFfNN_2y8IIsnu_whi8_gEHvZammsur19BnGbjDvqnXLKr4u16A&s', 'https://encrypted-tbn0.gstatic.com/images?q=tbn:ANd9GcRP_8KU4E6Z2Y6127ZJoEWktcGQisx2Oe8bJa1uVTageBbaRVNR_sfHLYEI4w&s', 'https://encrypted-tbn0.gstatic.com/images?q=tbn:ANd9GcQlFaV1VwTYpEK3K5emp4TYyAgqrh68SHkPcpQhElnbSB0LvCXPi20VNLbjpmw&s']}\n"
     ]
    }
   ],
   "source": [
    " \n",
    "def run():\n",
    "    app.run(host='0.0.0.0',port=6688, threaded=False)\n",
    "\n",
    "run()"
   ]
  },
  {
   "cell_type": "code",
   "execution_count": null,
   "id": "7ec1d193",
   "metadata": {},
   "outputs": [],
   "source": []
  }
 ],
 "metadata": {
  "kernelspec": {
   "display_name": "Python 3 (ipykernel)",
   "language": "python",
   "name": "python3"
  },
  "language_info": {
   "codemirror_mode": {
    "name": "ipython",
    "version": 3
   },
   "file_extension": ".py",
   "mimetype": "text/x-python",
   "name": "python",
   "nbconvert_exporter": "python",
   "pygments_lexer": "ipython3",
   "version": "3.9.7"
  }
 },
 "nbformat": 4,
 "nbformat_minor": 5
}
