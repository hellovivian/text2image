{
 "cells": [
  {
   "cell_type": "code",
   "execution_count": 1,
   "id": "49ca5d2e",
   "metadata": {},
   "outputs": [],
   "source": [
    "# authors Max\n",
    "import threading\n",
    "import numpy as np\n",
    "import torch\n",
    "import torchvision\n",
    "import torchvision.transforms as transforms\n",
    "import torch.nn.functional as F\n",
    "\n",
    "from torch.autograd import Variable\n",
    "\n",
    "from torch.utils.data import TensorDataset, DataLoader\n",
    "import matplotlib.pyplot as plt\n",
    "from matplotlib.colors import LinearSegmentedColormap\n",
    "import math\n",
    "import random\n",
    "from urllib.request import urlopen\n",
    "from tqdm import tqdm\n",
    "import sys\n",
    "import os\n",
    "sys.path.append('taming-transformers')\n",
    "from omegaconf import OmegaConf\n",
    "from taming.models import cond_transformer, vqgan\n",
    "import torch\n",
    "from torch import nn, optim\n",
    "from torch.nn import functional as F\n",
    "from torchvision import transforms\n",
    "from torchvision.transforms import functional as TF\n",
    "from torch.cuda import get_device_properties\n",
    "torch.backends.cudnn.benchmark = False\n",
    "from torch_optimizer import DiffGrad, AdamP, RAdam\n",
    "from CLIP import clip\n",
    "import kornia.augmentation as K\n",
    "import imageio\n",
    "from PIL import ImageFile, Image, PngImagePlugin, ImageChops\n",
    "ImageFile.LOAD_TRUNCATED_IMAGES = True\n",
    "from subprocess import Popen, PIPE\n",
    "import re\n",
    "import pickle"
   ]
  },
  {
   "cell_type": "code",
   "execution_count": 2,
   "id": "5ff02e18",
   "metadata": {},
   "outputs": [],
   "source": [
    "patches = {0: {'conv1': '#bce6da', 'resblock_1': '#bce6da', 'resblock_3': '#bce6da', 'resblock_5': '#95cbd1', 'resblock_7': '#83c0cf', 'resblock_9': '#bce6da', 'resblock_11': '#83c0cf', 'embedding_layer': '#612937'}, 1: {'conv1': '#fed3ac', 'resblock_1': '#9ed1d3', 'resblock_3': '#bce6da', 'resblock_5': '#80bece', 'resblock_7': '#bce6da', 'resblock_9': '#bce6da', 'resblock_11': '#494da1', 'embedding_layer': '#572732'}, 2: {'conv1': '#bce6da', 'resblock_1': '#bce6da', 'resblock_3': '#bce6da', 'resblock_5': '#a0d2d3', 'resblock_7': '#bce6da', 'resblock_9': '#bce6da', 'resblock_11': '#38365f', 'embedding_layer': '#95cbd1'}, 3: {'conv1': '#3d3a6c', 'resblock_1': '#bce6da', 'resblock_3': '#bce6da', 'resblock_5': '#80bece', 'resblock_7': '#83c0cf', 'resblock_9': '#bce6da', 'resblock_11': '#bce6da', 'embedding_layer': '#5e2836'}, 4: {'conv1': '#bce6da', 'resblock_1': '#bce6da', 'resblock_3': '#bce6da', 'resblock_5': '#4953b0', 'resblock_7': '#bce6da', 'resblock_9': '#bce6da', 'resblock_11': '#b33241', 'embedding_layer': '#fed3ac'}, 5: {'conv1': '#bce6da', 'resblock_1': '#bce6da', 'resblock_3': '#bce6da', 'resblock_5': '#86c2cf', 'resblock_7': '#bce6da', 'resblock_9': '#bce6da', 'resblock_11': '#bce6da', 'embedding_layer': '#e36133'}, 6: {'conv1': '#bce6da', 'resblock_1': '#bce6da', 'resblock_3': '#bce6da', 'resblock_5': '#4855b3', 'resblock_7': '#68b0cd', 'resblock_9': '#bce6da', 'resblock_11': '#3f69c9', 'embedding_layer': '#fcc699'}, 7: {'conv1': '#bce6da', 'resblock_1': '#bce6da', 'resblock_3': '#bce6da', 'resblock_5': '#8fc7d0', 'resblock_7': '#bce6da', 'resblock_9': '#bce6da', 'resblock_11': '#5c2835', 'embedding_layer': '#1e1e1e'}, 8: {'conv1': '#bce6da', 'resblock_1': '#bce6da', 'resblock_3': '#bce6da', 'resblock_5': '#3b70cd', 'resblock_7': '#bce6da', 'resblock_9': '#bce6da', 'resblock_11': '#2d1e21', 'embedding_layer': '#fed3ac'}, 9: {'conv1': '#bce6da', 'resblock_1': '#bce6da', 'resblock_3': '#bce6da', 'resblock_5': '#3f8fce', 'resblock_7': '#bce6da', 'resblock_9': '#bce6da', 'resblock_11': '#434282', 'embedding_layer': '#d34936'}, 10: {'conv1': '#bce6da', 'resblock_1': '#bce6da', 'resblock_3': '#bce6da', 'resblock_5': '#7dbcce', 'resblock_7': '#bce6da', 'resblock_9': '#bce6da', 'resblock_11': '#bce6da', 'embedding_layer': '#b33241'}, 11: {'conv1': '#bce6da', 'resblock_1': '#bce6da', 'resblock_3': '#bce6da', 'resblock_5': '#7abbce', 'resblock_7': '#bce6da', 'resblock_9': '#bce6da', 'resblock_11': '#bce6da', 'embedding_layer': '#2a1e20'}, 12: {'conv1': '#572732', 'resblock_1': '#bce6da', 'resblock_3': '#bce6da', 'resblock_5': '#95cbd1', 'resblock_7': '#a6d6d5', 'resblock_9': '#bce6da', 'resblock_11': '#3b70cd', 'embedding_layer': '#fed3ac'}, 13: {'conv1': '#bce6da', 'resblock_1': '#bce6da', 'resblock_3': '#bce6da', 'resblock_5': '#9bcfd2', 'resblock_7': '#bce6da', 'resblock_9': '#bce6da', 'resblock_11': '#bce6da', 'embedding_layer': '#241d1e'}, 14: {'conv1': '#bce6da', 'resblock_1': '#bce6da', 'resblock_3': '#bce6da', 'resblock_5': '#4067c7', 'resblock_7': '#bce6da', 'resblock_9': '#bce6da', 'resblock_11': '#bce6da', 'embedding_layer': '#692a3a'}, 15: {'conv1': '#bce6da', 'resblock_1': '#bce6da', 'resblock_3': '#bce6da', 'resblock_5': '#86c2cf', 'resblock_7': '#bce6da', 'resblock_9': '#bce6da', 'resblock_11': '#80bece', 'embedding_layer': '#962e44'}}"
   ]
  },
  {
   "cell_type": "code",
   "execution_count": 3,
   "id": "704043bf",
   "metadata": {},
   "outputs": [],
   "source": [
    "def hex_to_rgb(value):\n",
    "    value = value.lstrip('#')\n",
    "    lv = len(value)\n",
    "    return tuple(int(value[i:i + lv // 3], 16) for i in range(0, lv, lv // 3))\n",
    "\n",
    "\n",
    "def rgb_to_hex(rgb):\n",
    "    return '#%02x%02x%02x' % rgb"
   ]
  },
  {
   "cell_type": "code",
   "execution_count": 4,
   "id": "f0968d6e",
   "metadata": {},
   "outputs": [],
   "source": [
    "def combine_patches(patches, true_image=\"\", image_size=(256,256), ncols=4,\n",
    "                    cav_layer='embedding_layer', output_file='patched_CAV.jpg'):\n",
    "    ppp = image_size[0]//ncols # pixels per patch\n",
    "    im_patches = np.zeros((ncols**2,ppp,ppp,4))\n",
    "    p = 0\n",
    "    for i in range(len(im_patches)):\n",
    "        for pix_i in range(ppp):\n",
    "            for pix_j in range(ppp):\n",
    "                im_patches[i,pix_i,pix_j] = np.concatenate((hex_to_rgb(patches[p][cav_layer]),[255]))\n",
    "        p+=1\n",
    "\n",
    "    fig, axes = plt.subplots(nrows=4,ncols=4, figsize=(5, 5))\n",
    "    for i, ax in enumerate(axes.ravel()):\n",
    "        ax.axis('off')\n",
    "        ax.axes.get_yaxis().set_visible(False)\n",
    "        ax.imshow(im_patches[i].astype(int))\n",
    "        ax.margins(x=0,y=0)\n",
    "        \n",
    "    plt.tight_layout(pad=0) # or do 0.1 if we want a tiny amount of padding?\n",
    "    plt.savefig('patched.png', pad_inches=0)\n",
    "    plt.close()\n",
    "\n",
    "    if true_image == \"\":\n",
    "#         plt.show()\n",
    "        return('patched.png')\n",
    "    else:\n",
    "        fig, axes = plt.subplots(ncols=2, figsize=(10,5))\n",
    "        images = [Image.open(true_image), Image.open('patched_CAV.png')]\n",
    "        for i, ax in enumerate(axes.ravel()):\n",
    "            ax.axis('off')\n",
    "            ax.axes.get_yaxis().set_visible(False)\n",
    "            ax.imshow(images[i])\n",
    "        plt.tight_layout(pad=0.3)\n",
    "        plt.savefig(f'patched_and_real.png', pad_inches=0)\n",
    "        plt.close()\n",
    "#         plt.show(fig)\n",
    "        return('patched_and_real.png')"
   ]
  },
  {
   "cell_type": "code",
   "execution_count": 5,
   "id": "22f543e3",
   "metadata": {},
   "outputs": [],
   "source": [
    "# filename = combine_patches(patches) # if just want patched image\n",
    "filename = combine_patches(patches, true_image='patched.png') # if want side by side true_image"
   ]
  },
  {
   "cell_type": "code",
   "execution_count": 6,
   "id": "e40c9e47",
   "metadata": {},
   "outputs": [
    {
     "data": {
      "image/png": "[encoded data removed]",
      "text/plain": [
       "<PIL.PngImagePlugin.PngImageFile image mode=RGBA size=720x360 at 0x7F7E38D6F850>"
      ]
     },
     "execution_count": 6,
     "metadata": {},
     "output_type": "execute_result"
    }
   ],
   "source": [
    "Image.open(filename)"
   ]
  }
 ],
 "metadata": {
  "kernelspec": {
   "display_name": "Python (maxreplearn)",
   "language": "python",
   "name": "maxreplearn"
  },
  "language_info": {
   "codemirror_mode": {
    "name": "ipython",
    "version": 3
   },
   "file_extension": ".py",
   "mimetype": "text/x-python",
   "name": "python",
   "nbconvert_exporter": "python",
   "pygments_lexer": "ipython3",
   "version": "3.9.7"
  }
 },
 "nbformat": 4,
 "nbformat_minor": 5
}
