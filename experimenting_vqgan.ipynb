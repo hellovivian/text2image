{
 "cells": [
  {
   "cell_type": "code",
   "execution_count": 1,
   "id": "50065109",
   "metadata": {},
   "outputs": [],
   "source": [
    "# Originally made by Katherine Crowson (https://github.com/crowsonkb, https://twitter.com/RiversHaveWings)\n",
    "# The original BigGAN+CLIP method was by https://twitter.com/advadnoun\n",
    "\n",
    "import argparse\n",
    "import math\n",
    "import random\n",
    "# from email.policy import default\n",
    "from urllib.request import urlopen\n",
    "from tqdm import tqdm\n",
    "import sys\n",
    "import os\n",
    "\n",
    "# pip install taming-transformers doesn't work with Gumbel, but does not yet work with coco etc\n",
    "# appending the path does work with Gumbel, but gives ModuleNotFoundError: No module named 'transformers' for coco etc\n",
    "sys.path.append('taming-transformers')\n",
    "\n",
    "from omegaconf import OmegaConf\n",
    "from taming.models import cond_transformer, vqgan\n",
    "#import taming.modules \n",
    "\n",
    "import torch\n",
    "from torch import nn, optim\n",
    "from torch.nn import functional as F\n",
    "from torchvision import transforms\n",
    "from torchvision.transforms import functional as TF\n",
    "from torch.cuda import get_device_properties\n",
    "torch.backends.cudnn.benchmark = False\t\t# NR: True is a bit faster, but can lead to OOM. False is more deterministic.\n",
    "#torch.use_deterministic_algorithms(True)\t# NR: grid_sampler_2d_backward_cuda does not have a deterministic implementation\n",
    "\n",
    "from torch_optimizer import DiffGrad, AdamP, RAdam\n",
    "\n",
    "import torchvision\n",
    "from torchvision import transforms\n",
    "from torchvision.transforms import CenterCrop, Resize, ToTensor, Normalize\n",
    "import numpy as np\n",
    "from sklearn.decomposition import PCA\n",
    "\n",
    "import kornia.augmentation as K\n",
    "import numpy as np\n",
    "import imageio\n",
    "\n",
    "from PIL import ImageFile, Image, PngImagePlugin, ImageChops\n",
    "ImageFile.LOAD_TRUNCATED_IMAGES = True\n",
    "\n",
    "from subprocess import Popen, PIPE\n",
    "import re\n",
    "\n",
    "# Supress warnings\n",
    "import warnings\n",
    "warnings.filterwarnings('ignore')\n",
    "\n",
    "\n",
    "# Check for GPU and reduce the default image size if low VRAM\n",
    "default_image_size = 256"
   ]
  },
  {
   "cell_type": "code",
   "execution_count": 2,
   "id": "b2fe0b13",
   "metadata": {},
   "outputs": [],
   "source": [
    "\n",
    "# Various functions and classes\n",
    "def sinc(x):\n",
    "    return torch.where(x != 0, torch.sin(math.pi * x) / (math.pi * x), x.new_ones([]))\n",
    "\n",
    "\n",
    "def lanczos(x, a):\n",
    "    cond = torch.logical_and(-a < x, x < a)\n",
    "    out = torch.where(cond, sinc(x) * sinc(x/a), x.new_zeros([]))\n",
    "    return out / out.sum()\n",
    "\n",
    "\n",
    "def ramp(ratio, width):\n",
    "    n = math.ceil(width / ratio + 1)\n",
    "    out = torch.empty([n])\n",
    "    cur = 0\n",
    "    for i in range(out.shape[0]):\n",
    "        out[i] = cur\n",
    "        cur += ratio\n",
    "    return torch.cat([-out[1:].flip([0]), out])[1:-1]\n",
    "\n",
    "\n",
    "# For zoom video\n",
    "def zoom_at(img, x, y, zoom):\n",
    "    w, h = img.size\n",
    "    zoom2 = zoom * 2\n",
    "    img = img.crop((x - w / zoom2, y - h / zoom2, \n",
    "                    x + w / zoom2, y + h / zoom2))\n",
    "    return img.resize((w, h), Image.LANCZOS)\n",
    "\n",
    "\n",
    "# NR: Testing with different intital images\n",
    "def random_noise_image(w,h):\n",
    "    random_image = Image.fromarray(np.random.randint(0,255,(w,h,3),dtype=np.dtype('uint8')))\n",
    "    return random_image\n",
    "\n",
    "\n",
    "# create initial gradient image\n",
    "def gradient_2d(start, stop, width, height, is_horizontal):\n",
    "    if is_horizontal:\n",
    "        return np.tile(np.linspace(start, stop, width), (height, 1))\n",
    "    else:\n",
    "        return np.tile(np.linspace(start, stop, height), (width, 1)).T\n",
    "\n",
    "\n",
    "def gradient_3d(width, height, start_list, stop_list, is_horizontal_list):\n",
    "    result = np.zeros((height, width, len(start_list)), dtype=float)\n",
    "\n",
    "    for i, (start, stop, is_horizontal) in enumerate(zip(start_list, stop_list, is_horizontal_list)):\n",
    "        result[:, :, i] = gradient_2d(start, stop, width, height, is_horizontal)\n",
    "\n",
    "    return result\n",
    "\n",
    "    \n",
    "def random_gradient_image(w,h):\n",
    "    array = gradient_3d(w, h, (0, 0, np.random.randint(0,255)), (np.random.randint(1,255), np.random.randint(2,255), np.random.randint(3,128)), (True, False, False))\n",
    "    random_image = Image.fromarray(np.uint8(array))\n",
    "    return random_image\n",
    "\n",
    "\n",
    "# Used in older MakeCutouts\n",
    "def resample(input, size, align_corners=True):\n",
    "    n, c, h, w = input.shape\n",
    "    dh, dw = size\n",
    "\n",
    "    input = input.view([n * c, 1, h, w])\n",
    "\n",
    "    if dh < h:\n",
    "        kernel_h = lanczos(ramp(dh / h, 2), 2).to(input.device, input.dtype)\n",
    "        pad_h = (kernel_h.shape[0] - 1) // 2\n",
    "        input = F.pad(input, (0, 0, pad_h, pad_h), 'reflect')\n",
    "        input = F.conv2d(input, kernel_h[None, None, :, None])\n",
    "\n",
    "    if dw < w:\n",
    "        kernel_w = lanczos(ramp(dw / w, 2), 2).to(input.device, input.dtype)\n",
    "        pad_w = (kernel_w.shape[0] - 1) // 2\n",
    "        input = F.pad(input, (pad_w, pad_w, 0, 0), 'reflect')\n",
    "        input = F.conv2d(input, kernel_w[None, None, None, :])\n",
    "\n",
    "    input = input.view([n, c, h, w])\n",
    "    return F.interpolate(input, size, mode='bicubic', align_corners=align_corners)\n",
    "\n",
    "\n",
    "class ReplaceGrad(torch.autograd.Function):\n",
    "    @staticmethod\n",
    "    def forward(ctx, x_forward, x_backward):\n",
    "        ctx.shape = x_backward.shape\n",
    "        return x_forward\n",
    "\n",
    "    @staticmethod\n",
    "    def backward(ctx, grad_in):\n",
    "        return None, grad_in.sum_to_size(ctx.shape)\n",
    "\n",
    "replace_grad = ReplaceGrad.apply\n",
    "\n",
    "\n",
    "class ClampWithGrad(torch.autograd.Function):\n",
    "    @staticmethod\n",
    "    def forward(ctx, input, min, max):\n",
    "        ctx.min = min\n",
    "        ctx.max = max\n",
    "        ctx.save_for_backward(input)\n",
    "        return input.clamp(min, max)\n",
    "\n",
    "    @staticmethod\n",
    "    def backward(ctx, grad_in):\n",
    "        input, = ctx.saved_tensors\n",
    "        return grad_in * (grad_in * (input - input.clamp(ctx.min, ctx.max)) >= 0), None, None\n",
    "\n",
    "clamp_with_grad = ClampWithGrad.apply\n",
    "\n",
    "\n",
    "def vector_quantize(x, codebook):\n",
    "    d = x.pow(2).sum(dim=-1, keepdim=True) + codebook.pow(2).sum(dim=1) - 2 * x @ codebook.T\n",
    "    indices = d.argmin(-1)\n",
    "    x_q = F.one_hot(indices, codebook.shape[0]).to(d.dtype) @ codebook\n",
    "    return replace_grad(x_q, x)\n",
    "\n",
    "\n",
    "class MakeCutouts(nn.Module):\n",
    "    def __init__(self, cut_size, cutn, cut_pow=1.):\n",
    "        super().__init__()\n",
    "        self.cut_size = cut_size\n",
    "        self.cutn = cutn\n",
    "        self.cut_pow = cut_pow # not used with pooling\n",
    "        \n",
    "        # Pick your own augments & their order\n",
    "        augment_list = []\n",
    "        for item in args.augments[0]:\n",
    "            if item == 'Ji':\n",
    "                augment_list.append(K.ColorJitter(brightness=0.1, contrast=0.1, saturation=0.1, hue=0.1, p=0.7))\n",
    "            elif item == 'Sh':\n",
    "                augment_list.append(K.RandomSharpness(sharpness=0.3, p=0.5))\n",
    "            elif item == 'Gn':\n",
    "                augment_list.append(K.RandomGaussianNoise(mean=0.0, std=1., p=0.5))\n",
    "            elif item == 'Pe':\n",
    "                augment_list.append(K.RandomPerspective(distortion_scale=0.7, p=0.7))\n",
    "            elif item == 'Ro':\n",
    "                augment_list.append(K.RandomRotation(degrees=15, p=0.7))\n",
    "            elif item == 'Af':\n",
    "                augment_list.append(K.RandomAffine(degrees=15, translate=0.1, shear=5, p=0.7, padding_mode='zeros', keepdim=True)) # border, reflection, zeros\n",
    "            elif item == 'Et':\n",
    "                augment_list.append(K.RandomElasticTransform(p=0.7))\n",
    "            elif item == 'Ts':\n",
    "                augment_list.append(K.RandomThinPlateSpline(scale=0.8, same_on_batch=True, p=0.7))\n",
    "            elif item == 'Cr':\n",
    "                augment_list.append(K.RandomCrop(size=(self.cut_size,self.cut_size), pad_if_needed=True, padding_mode='reflect', p=0.5))\n",
    "            elif item == 'Er':\n",
    "                augment_list.append(K.RandomErasing(scale=(.1, .4), ratio=(.3, 1/.3), same_on_batch=True, p=0.7))\n",
    "            elif item == 'Re':\n",
    "                augment_list.append(K.RandomResizedCrop(size=(self.cut_size,self.cut_size), scale=(0.1,1),  ratio=(0.75,1.333), cropping_mode='resample', p=0.5))\n",
    "                \n",
    "        self.augs = nn.Sequential(*augment_list)\n",
    "        self.noise_fac = 0.1\n",
    "        # self.noise_fac = False\n",
    "\n",
    "        # Uncomment if you like seeing the list ;)\n",
    "        # print(augment_list)\n",
    "        \n",
    "        # Pooling\n",
    "        self.av_pool = nn.AdaptiveAvgPool2d((self.cut_size, self.cut_size))\n",
    "        self.max_pool = nn.AdaptiveMaxPool2d((self.cut_size, self.cut_size))\n",
    "\n",
    "    def forward(self, input):\n",
    "        cutouts = []\n",
    "        \n",
    "        for _ in range(self.cutn):            \n",
    "            # Use Pooling\n",
    "            cutout = (self.av_pool(input) + self.max_pool(input))/2\n",
    "            cutouts.append(cutout)\n",
    "            \n",
    "        batch = self.augs(torch.cat(cutouts, dim=0))\n",
    "        \n",
    "        if self.noise_fac:\n",
    "            facs = batch.new_empty([self.cutn, 1, 1, 1]).uniform_(0, self.noise_fac)\n",
    "            batch = batch + facs * torch.randn_like(batch)\n",
    "        return batch\n",
    "\n",
    "\n",
    "# An updated version with Kornia augments and pooling (where my version started):\n",
    "class MakeCutoutsPoolingUpdate(nn.Module):\n",
    "    def __init__(self, cut_size, cutn, cut_pow=1.):\n",
    "        super().__init__()\n",
    "        self.cut_size = cut_size\n",
    "        self.cutn = cutn\n",
    "        self.cut_pow = cut_pow # Not used with pooling\n",
    "\n",
    "        self.augs = nn.Sequential(\n",
    "            K.RandomAffine(degrees=15, translate=0.1, p=0.7, padding_mode='border'),\n",
    "            K.RandomPerspective(0.7,p=0.7),\n",
    "            K.ColorJitter(hue=0.1, saturation=0.1, p=0.7),\n",
    "            K.RandomErasing((.1, .4), (.3, 1/.3), same_on_batch=True, p=0.7),            \n",
    "        )\n",
    "        \n",
    "        self.noise_fac = 0.1\n",
    "        self.av_pool = nn.AdaptiveAvgPool2d((self.cut_size, self.cut_size))\n",
    "        self.max_pool = nn.AdaptiveMaxPool2d((self.cut_size, self.cut_size))\n",
    "\n",
    "    def forward(self, input):\n",
    "        sideY, sideX = input.shape[2:4]\n",
    "        max_size = min(sideX, sideY)\n",
    "        min_size = min(sideX, sideY, self.cut_size)\n",
    "        cutouts = []\n",
    "        \n",
    "        for _ in range(self.cutn):\n",
    "            cutout = (self.av_pool(input) + self.max_pool(input))/2\n",
    "            cutouts.append(cutout)\n",
    "            \n",
    "        batch = self.augs(torch.cat(cutouts, dim=0))\n",
    "        \n",
    "        if self.noise_fac:\n",
    "            facs = batch.new_empty([self.cutn, 1, 1, 1]).uniform_(0, self.noise_fac)\n",
    "            batch = batch + facs * torch.randn_like(batch)\n",
    "        return batch\n",
    "\n",
    "\n",
    "# An Nerdy updated version with selectable Kornia augments, but no pooling:\n",
    "class MakeCutoutsNRUpdate(nn.Module):\n",
    "    def __init__(self, cut_size, cutn, cut_pow=1.):\n",
    "        super().__init__()\n",
    "        self.cut_size = cut_size\n",
    "        self.cutn = cutn\n",
    "        self.cut_pow = cut_pow\n",
    "        self.noise_fac = 0.1\n",
    "        \n",
    "        # Pick your own augments & their order\n",
    "        augment_list = []\n",
    "        for item in args.augments[0]:\n",
    "            if item == 'Ji':\n",
    "                augment_list.append(K.ColorJitter(brightness=0.1, contrast=0.1, saturation=0.1, hue=0.1, p=0.7))\n",
    "            elif item == 'Sh':\n",
    "                augment_list.append(K.RandomSharpness(sharpness=0.3, p=0.5))\n",
    "            elif item == 'Gn':\n",
    "                augment_list.append(K.RandomGaussianNoise(mean=0.0, std=1., p=0.5))\n",
    "            elif item == 'Pe':\n",
    "                augment_list.append(K.RandomPerspective(distortion_scale=0.5, p=0.7))\n",
    "            elif item == 'Ro':\n",
    "                augment_list.append(K.RandomRotation(degrees=15, p=0.7))\n",
    "            elif item == 'Af':\n",
    "                augment_list.append(K.RandomAffine(degrees=30, translate=0.1, shear=5, p=0.7, padding_mode='zeros', keepdim=True)) # border, reflection, zeros\n",
    "            elif item == 'Et':\n",
    "                augment_list.append(K.RandomElasticTransform(p=0.7))\n",
    "            elif item == 'Ts':\n",
    "                augment_list.append(K.RandomThinPlateSpline(scale=0.8, same_on_batch=True, p=0.7))\n",
    "            elif item == 'Cr':\n",
    "                augment_list.append(K.RandomCrop(size=(self.cut_size,self.cut_size), pad_if_needed=True, padding_mode='reflect', p=0.5))\n",
    "            elif item == 'Er':\n",
    "                augment_list.append(K.RandomErasing(scale=(.1, .4), ratio=(.3, 1/.3), same_on_batch=True, p=0.7))\n",
    "            elif item == 'Re':\n",
    "                augment_list.append(K.RandomResizedCrop(size=(self.cut_size,self.cut_size), scale=(0.1,1),  ratio=(0.75,1.333), cropping_mode='resample', p=0.5))\n",
    "                \n",
    "        self.augs = nn.Sequential(*augment_list)\n",
    "\n",
    "\n",
    "    def forward(self, input):\n",
    "        sideY, sideX = input.shape[2:4]\n",
    "        max_size = min(sideX, sideY)\n",
    "        min_size = min(sideX, sideY, self.cut_size)\n",
    "        cutouts = []\n",
    "        for _ in range(self.cutn):\n",
    "            size = int(torch.rand([])**self.cut_pow * (max_size - min_size) + min_size)\n",
    "            offsetx = torch.randint(0, sideX - size + 1, ())\n",
    "            offsety = torch.randint(0, sideY - size + 1, ())\n",
    "            cutout = input[:, :, offsety:offsety + size, offsetx:offsetx + size]\n",
    "            cutouts.append(resample(cutout, (self.cut_size, self.cut_size)))\n",
    "        batch = self.augs(torch.cat(cutouts, dim=0))\n",
    "        if self.noise_fac:\n",
    "            facs = batch.new_empty([self.cutn, 1, 1, 1]).uniform_(0, self.noise_fac)\n",
    "            batch = batch + facs * torch.randn_like(batch)\n",
    "        return batch\n",
    "\n",
    "\n",
    "# An updated version with Kornia augments, but no pooling:\n",
    "class MakeCutoutsUpdate(nn.Module):\n",
    "    def __init__(self, cut_size, cutn, cut_pow=1.):\n",
    "        super().__init__()\n",
    "        self.cut_size = cut_size\n",
    "        self.cutn = cutn\n",
    "        self.cut_pow = cut_pow\n",
    "        self.augs = nn.Sequential(\n",
    "            K.RandomHorizontalFlip(p=0.5),\n",
    "            K.ColorJitter(hue=0.01, saturation=0.01, p=0.7),\n",
    "            # K.RandomSolarize(0.01, 0.01, p=0.7),\n",
    "            K.RandomSharpness(0.3,p=0.4),\n",
    "            K.RandomAffine(degrees=30, translate=0.1, p=0.8, padding_mode='border'),\n",
    "            K.RandomPerspective(0.2,p=0.4),)\n",
    "        self.noise_fac = 0.1\n",
    "\n",
    "\n",
    "    def forward(self, input):\n",
    "        sideY, sideX = input.shape[2:4]\n",
    "        max_size = min(sideX, sideY)\n",
    "        min_size = min(sideX, sideY, self.cut_size)\n",
    "        cutouts = []\n",
    "        for _ in range(self.cutn):\n",
    "            size = int(torch.rand([])**self.cut_pow * (max_size - min_size) + min_size)\n",
    "            offsetx = torch.randint(0, sideX - size + 1, ())\n",
    "            offsety = torch.randint(0, sideY - size + 1, ())\n",
    "            cutout = input[:, :, offsety:offsety + size, offsetx:offsetx + size]\n",
    "            cutouts.append(resample(cutout, (self.cut_size, self.cut_size)))\n",
    "        batch = self.augs(torch.cat(cutouts, dim=0))\n",
    "        if self.noise_fac:\n",
    "            facs = batch.new_empty([self.cutn, 1, 1, 1]).uniform_(0, self.noise_fac)\n",
    "            batch = batch + facs * torch.randn_like(batch)\n",
    "        return batch\n",
    "\n",
    "\n",
    "# This is the original version (No pooling)\n",
    "class MakeCutoutsOrig(nn.Module):\n",
    "    def __init__(self, cut_size, cutn, cut_pow=1.):\n",
    "        super().__init__()\n",
    "        self.cut_size = cut_size\n",
    "        self.cutn = cutn\n",
    "        self.cut_pow = cut_pow\n",
    "\n",
    "    def forward(self, input):\n",
    "        sideY, sideX = input.shape[2:4]\n",
    "        max_size = min(sideX, sideY)\n",
    "        min_size = min(sideX, sideY, self.cut_size)\n",
    "        cutouts = []\n",
    "        for _ in range(self.cutn):\n",
    "            size = int(torch.rand([])**self.cut_pow * (max_size - min_size) + min_size)\n",
    "            offsetx = torch.randint(0, sideX - size + 1, ())\n",
    "            offsety = torch.randint(0, sideY - size + 1, ())\n",
    "            cutout = input[:, :, offsety:offsety + size, offsetx:offsetx + size]\n",
    "            cutouts.append(resample(cutout, (self.cut_size, self.cut_size)))\n",
    "        return clamp_with_grad(torch.cat(cutouts, dim=0), 0, 1)\n",
    "\n",
    "\n",
    "def load_vqgan_model(config_path, checkpoint_path):\n",
    "    global gumbel\n",
    "    gumbel = False\n",
    "    config = OmegaConf.load(config_path)\n",
    "    if config.model.target == 'taming.models.vqgan.VQModel':\n",
    "        model = vqgan.VQModel(**config.model.params)\n",
    "        model.eval().requires_grad_(False)\n",
    "        model.init_from_ckpt(checkpoint_path)\n",
    "    elif config.model.target == 'taming.models.vqgan.GumbelVQ':\n",
    "        model = vqgan.GumbelVQ(**config.model.params)\n",
    "        model.eval().requires_grad_(False)\n",
    "        model.init_from_ckpt(checkpoint_path)\n",
    "        gumbel = True\n",
    "    elif config.model.target == 'taming.models.cond_transformer.Net2NetTransformer':\n",
    "        parent_model = cond_transformer.Net2NetTransformer(**config.model.params)\n",
    "        parent_model.eval().requires_grad_(False)\n",
    "        parent_model.init_from_ckpt(checkpoint_path)\n",
    "        model = parent_model.first_stage_model\n",
    "    else:\n",
    "        raise ValueError(f'unknown model type: {config.model.target}')\n",
    "    del model.loss\n",
    "    return model\n",
    "\n",
    "\n",
    "def resize_image(image, out_size):\n",
    "    ratio = image.size[0] / image.size[1]\n",
    "    area = min(image.size[0] * image.size[1], out_size[0] * out_size[1])\n",
    "    size = round((area * ratio)**0.5), round((area / ratio)**0.5)\n",
    "    return image.resize(size, Image.LANCZOS)\n",
    "\n"
   ]
  },
  {
   "cell_type": "code",
   "execution_count": 3,
   "id": "d5be3c50",
   "metadata": {},
   "outputs": [
    {
     "name": "stdout",
     "output_type": "stream",
     "text": [
      "Working with z of shape (1, 256, 16, 16) = 65536 dimensions.\n",
      "loaded pretrained LPIPS loss from taming/modules/autoencoder/lpips/vgg.pth\n",
      "VQLPIPSWithDiscriminator running with hinge loss.\n",
      "Restored from checkpoints/vqgan_imagenet_f16_16384.ckpt\n"
     ]
    }
   ],
   "source": [
    "device = torch.device(\"cuda:0\" if torch.cuda.is_available() else \"cpu\")\n",
    "vqgan = load_vqgan_model('checkpoints/vqgan_imagenet_f16_16384.yaml', 'checkpoints/vqgan_imagenet_f16_16384.ckpt').to(device)\n",
    "jit = True if float(torch.__version__[:3]) < 1.8 else False\n",
    "#perceptor = clip.load('ViT-B/32', jit=jit)[0].eval().requires_grad_(False).to(device)"
   ]
  },
  {
   "cell_type": "code",
   "execution_count": 4,
   "id": "7bcb9d5f",
   "metadata": {},
   "outputs": [],
   "source": [
    "def vector_quantize(x, codebook):\n",
    "    #Squares and sums along the last dimension, adds codebook squared and summed \n",
    "    d = x.pow(2).sum(dim=-1, keepdim=True) + codebook.pow(2).sum(dim=1) - 2 * x @ codebook.T\n",
    "    indices = d.argmin(-1)\n",
    "    x_q = F.one_hot(indices, codebook.shape[0]).to(d.dtype) @ codebook\n",
    "    return replace_grad(x_q, x)"
   ]
  },
  {
   "cell_type": "code",
   "execution_count": 5,
   "id": "e640d2ad",
   "metadata": {},
   "outputs": [],
   "source": [
    "def vector_quantize2(x, codebook):\n",
    "    #Squares and sums along the last dimension, adds codebook squared and summed \n",
    "    d = x.pow(2).sum(dim=-1, keepdim=True) + codebook.pow(2).sum(dim=1) - 2 * x @ codebook.T\n",
    "    indices = d.argmin(-1)\n",
    "    x_q = F.one_hot(indices, codebook.shape[0]).to(d.dtype) @ codebook\n",
    "    return indices, replace_grad(x_q, x)"
   ]
  },
  {
   "cell_type": "code",
   "execution_count": 6,
   "id": "5ace2a85",
   "metadata": {},
   "outputs": [],
   "source": [
    "# z.movedim(1, 3) @ model.quantize.embedding.weight.T"
   ]
  },
  {
   "cell_type": "code",
   "execution_count": 7,
   "id": "7f829737",
   "metadata": {},
   "outputs": [],
   "source": [
    "# import PIL\n",
    "\n",
    "# PIL.Image.fromarray(((result* 255).squeeze(0).permute(2,1,0).cpu().detach().numpy()).astype(np.uint8))\n",
    "\n"
   ]
  },
  {
   "cell_type": "code",
   "execution_count": 8,
   "id": "dad6dece",
   "metadata": {},
   "outputs": [],
   "source": [
    "# z.requires_grad_(True)\n",
    "# model.quantize.embed.weight"
   ]
  },
  {
   "cell_type": "code",
   "execution_count": 9,
   "id": "dc7c3ef9",
   "metadata": {},
   "outputs": [],
   "source": [
    "def process_folder(folder_name):\n",
    "    \n",
    "    \n",
    "    folder_files = os.listdir(folder_name)\n",
    "    folder_tensors = torch.vstack([preprocess(Image.open(folder_name + folder_file)).unsqueeze(0).to(device) for folder_file in folder_files])\n",
    "    return folder_tensors"
   ]
  },
  {
   "cell_type": "code",
   "execution_count": 10,
   "id": "96b5796e",
   "metadata": {},
   "outputs": [],
   "source": [
    "preprocess = torchvision.transforms.Compose(\n",
    "   [Resize(size=224),\n",
    "    CenterCrop(size=(224, 224)),\n",
    "    ToTensor(),\n",
    "    Normalize(mean=(0.48145466, 0.4578275, 0.40821073), std=(0.26862954, 0.26130258, 0.27577711))]\n",
    ")"
   ]
  },
  {
   "cell_type": "code",
   "execution_count": 11,
   "id": "ff8d480d",
   "metadata": {},
   "outputs": [],
   "source": [
    "artist_a = process_folder(\"data/tyrus/\")[:]\n",
    "artist_b = process_folder(\"data/rothko/\")[:]\n",
    "artist_c = process_folder(\"data/joseon/\")[:]"
   ]
  },
  {
   "cell_type": "code",
   "execution_count": 12,
   "id": "8d82254f",
   "metadata": {},
   "outputs": [],
   "source": [
    "\n",
    "#between 0 and 1\n",
    "def normalize(vector, zero_center=True):\n",
    "    zero_center_vector =  vector - vector.min()\n",
    "    change_vector_spread = zero_center_vector / (zero_center_vector.max() - zero_center_vector.min())\n",
    "    if not zero_center:\n",
    "        return change_vector_spread\n",
    "    else:\n",
    "        return  (change_vector_spread * 2) - 1\n",
    "def normalize_batch(artist_samples):\n",
    "    return torch.stack([normalize(artist_sample) for artist_sample in artist_samples])"
   ]
  },
  {
   "cell_type": "code",
   "execution_count": 13,
   "id": "6000ecf8",
   "metadata": {},
   "outputs": [],
   "source": [
    "def normalize_batch(artist_samples):\n",
    "    return torch.stack([normalize(artist_sample) for artist_sample in artist_samples])"
   ]
  },
  {
   "cell_type": "code",
   "execution_count": 14,
   "id": "6cc8d69a",
   "metadata": {},
   "outputs": [],
   "source": [
    "folders = [\"data/tyrus/\", \"data/rothko/\",\"data/joseon/\"]\n",
    "\n",
    "# sizes = [len(os.listdir(data_path)) for data_path in folders]\n",
    "num_samples = 5\n",
    "sizes = [num_samples for data_path in folders]"
   ]
  },
  {
   "cell_type": "code",
   "execution_count": 75,
   "id": "8b7d5a71",
   "metadata": {},
   "outputs": [],
   "source": [
    "x = nn.Conv2d(256, 128, 3, stride=2)(torch.rand(1,256,14,14))\n",
    "x = nn.ReLU()(x)\n",
    "x = nn.MaxPool2d(kernel_size = 2, stride=2)(x)\n",
    "x = nn.Conv2d(128, 32, 3, stride=2)(x)\n",
    "x = nn.ReLU()(x)\n",
    "x = nn.Linear(32,2)(x.view(-1))"
   ]
  },
  {
   "cell_type": "code",
   "execution_count": 76,
   "id": "6f695e46",
   "metadata": {},
   "outputs": [
    {
     "data": {
      "text/plain": [
       "torch.Size([2])"
      ]
     },
     "execution_count": 76,
     "metadata": {},
     "output_type": "execute_result"
    }
   ],
   "source": [
    "x.shape\n",
    "\n",
    "nn.Linear(32,2)(x.view(-1))"
   ]
  },
  {
   "cell_type": "code",
   "execution_count": 49,
   "id": "ebff9425",
   "metadata": {},
   "outputs": [
    {
     "data": {
      "text/plain": [
       "torch.Size([1, 64, 2, 2])"
      ]
     },
     "execution_count": 49,
     "metadata": {},
     "output_type": "execute_result"
    }
   ],
   "source": [
    "nn.MaxPool2d(kernel_size=3, stride=2)(m).shape"
   ]
  },
  {
   "cell_type": "code",
   "execution_count": 86,
   "id": "15464300",
   "metadata": {},
   "outputs": [],
   "source": [
    "class Encoder(nn.Module):\n",
    "    def __init__(self, **kwargs):\n",
    "        super().__init__()\n",
    "        self.encoder_conv2d_1 = nn.Conv2d(256, 128, 3, stride=2)\n",
    "        self.encoder_relu_1 = nn.ReLU()\n",
    "        self.encoder_conv2d_2 = nn.Conv2d(128, 32, 3, stride=2)\n",
    "        self.encoder_relu_2 = nn.ReLU()\n",
    "        self.encoder_mpool_1 = nn.MaxPool2d(kernel_size = 2, stride=2)\n",
    "        \n",
    "        self.encoder_flatten = nn.Flatten()\n",
    "        \n",
    "        self.encoder_linear = nn.Linear(32,2)\n",
    "        \n",
    "        self.decoder_project = nn.Linear(2,8)\n",
    "        self.decoder_conv2d_1 = nn.Conv2d(2, 64, 3, stride=2)\n",
    "        self.decoder_conv2d_2 = nn.Conv2d(64, 256,3, stride=2)\n",
    "\n",
    "    def forward(self, x):\n",
    "        x = self.encoder_conv2d_1(x)\n",
    "        x = self.encoder_relu_1(x)\n",
    "        x = self.encoder_mpool_1(x)\n",
    "        x = self.encoder_conv2d_2(x)\n",
    "        x = self.encoder_relu_2(x)\n",
    "        x = self.encoder_flatten(x)\n",
    "        x = self.encoder_linear(x)\n",
    "        \n",
    "        return x"
   ]
  },
  {
   "cell_type": "code",
   "execution_count": 140,
   "id": "94779b4c",
   "metadata": {},
   "outputs": [],
   "source": [
    "class Decoder(nn.Module):\n",
    "    def __init__(self, **kwargs):\n",
    "        super().__init__()\n",
    "\n",
    "        self.decoder_project = nn.Linear(2,32)\n",
    "        self.decoder_conv2d_1 = nn.ConvTranspose2d(32,128,4)\n",
    "        self.decoder_relu_1 = nn.ReLU()\n",
    "        self.decoder_conv2d_2 = nn.ConvTranspose2d(128, 256,8 , stride=2)\n",
    "        self.decoder_relu_2 = nn.ReLU()\n",
    "\n",
    "    def forward(self, x):\n",
    "        x = self.decoder_project(x)\n",
    "        x = self.decoder_conv2d_1(x.view(1,-1,1,1))\n",
    "        x = self.decoder_relu_1(x)\n",
    "        x = self.decoder_conv2d_2(x)\n",
    "        x = self.decoder_relu_2(x)\n",
    "        \n",
    "        return x"
   ]
  },
  {
   "cell_type": "code",
   "execution_count": 141,
   "id": "74043a90",
   "metadata": {},
   "outputs": [],
   "source": [
    "encoder = Encoder()\n",
    "decoder = Decoder()"
   ]
  },
  {
   "cell_type": "code",
   "execution_count": 142,
   "id": "3675f677",
   "metadata": {},
   "outputs": [],
   "source": [
    "# x = torch.rand(1,2)\n",
    "# x = nn.Linear(2,32)(x)\n",
    "# x.view(1,-1,1,1).shape\n",
    "# x = nn.ConvTranspose2d(32,128,4)(x.view(1,-1,1,1))\n",
    "# x = nn.ReLU()(x)\n",
    "# x = nn.ConvTranspose2d(128, 256,8 , stride=2)(x)"
   ]
  },
  {
   "cell_type": "code",
   "execution_count": 145,
   "id": "69c2822c",
   "metadata": {},
   "outputs": [],
   "source": [
    "x = encoder.forward(torch.rand(1,256,14,14))\n",
    "x = decoder.forward(torch.rand(1,2))\n"
   ]
  },
  {
   "cell_type": "code",
   "execution_count": 144,
   "id": "17a09b60",
   "metadata": {},
   "outputs": [],
   "source": [
    "\n",
    "processed_images = [process_folder(data_path)[:num_samples] for data_path in folders]\n",
    "normalized_images = torch.vstack([normalize_batch(artist_sample) for artist_sample in processed_images])\n",
    "encoded_z, *_ = vqgan.encode((normalized_images).to(device))\n",
    "\n",
    "indices, vq_z = vector_quantize2(encoded_z.movedim(1, 3), vqgan.quantize.embedding.weight)\n",
    "vq_z = vq_z.movedim(3, 1)"
   ]
  },
  {
   "cell_type": "code",
   "execution_count": 16,
   "id": "0f8c1132",
   "metadata": {},
   "outputs": [
    {
     "data": {
      "text/plain": [
       "torch.Size([15, 14, 14])"
      ]
     },
     "execution_count": 16,
     "metadata": {},
     "output_type": "execute_result"
    }
   ],
   "source": [
    "indices.shape"
   ]
  },
  {
   "cell_type": "code",
   "execution_count": 17,
   "id": "a37508e0",
   "metadata": {},
   "outputs": [
    {
     "ename": "NameError",
     "evalue": "name 'num_clusters' is not defined",
     "output_type": "error",
     "traceback": [
      "\u001b[0;31m---------------------------------------------------------------------------\u001b[0m",
      "\u001b[0;31mNameError\u001b[0m                                 Traceback (most recent call last)",
      "\u001b[0;32m/tmp/ipykernel_426/2519762268.py\u001b[0m in \u001b[0;36m<module>\u001b[0;34m\u001b[0m\n\u001b[0;32m----> 1\u001b[0;31m \u001b[0mindices\u001b[0m\u001b[0;34m.\u001b[0m\u001b[0mview\u001b[0m\u001b[0;34m(\u001b[0m\u001b[0mnum_samples\u001b[0m \u001b[0;34m*\u001b[0m \u001b[0mnum_clusters\u001b[0m\u001b[0;34m,\u001b[0m\u001b[0;34m-\u001b[0m\u001b[0;36m1\u001b[0m\u001b[0;34m)\u001b[0m\u001b[0;34m.\u001b[0m\u001b[0mshape\u001b[0m\u001b[0;34m\u001b[0m\u001b[0;34m\u001b[0m\u001b[0m\n\u001b[0m",
      "\u001b[0;31mNameError\u001b[0m: name 'num_clusters' is not defined"
     ]
    }
   ],
   "source": [
    "indices.view(num_samples * num_clusters,-1).shape"
   ]
  },
  {
   "cell_type": "code",
   "execution_count": 18,
   "id": "fd9f6b8c",
   "metadata": {},
   "outputs": [
    {
     "data": {
      "text/plain": [
       "torch.Size([15, 14, 14, 256])"
      ]
     },
     "execution_count": 18,
     "metadata": {},
     "output_type": "execute_result"
    }
   ],
   "source": [
    "encoded_z.movedim(1,3).shape"
   ]
  },
  {
   "cell_type": "code",
   "execution_count": 75,
   "id": "ab82a1ff",
   "metadata": {},
   "outputs": [],
   "source": [
    "from sklearn.cluster import KMeans\n",
    "# Perform kmean clustering\n",
    "num_clusters = 3\n",
    "clustering_model = KMeans(n_clusters=num_clusters)\n",
    "clustering_model.fit(indices.view(num_samples * num_clusters,-1).cpu().detach().numpy())\n",
    "cluster_assignment = clustering_model.labels_"
   ]
  },
  {
   "cell_type": "code",
   "execution_count": 81,
   "id": "cf645d4a",
   "metadata": {},
   "outputs": [],
   "source": [
    "decoded1 = clamp_with_grad(vqgan.decode(vq_z).add(1).div(2), 0, 1)"
   ]
  },
  {
   "cell_type": "code",
   "execution_count": 82,
   "id": "032cda0c",
   "metadata": {},
   "outputs": [],
   "source": [
    "decoded2 = clamp_with_grad(vqgan.decode(encoded_z).add(1).div(2), 0, 1)"
   ]
  },
  {
   "cell_type": "code",
   "execution_count": 86,
   "id": "b54e620c",
   "metadata": {},
   "outputs": [
    {
     "data": {
      "text/plain": [
       "Encoder(\n",
       "  (conv_in): Conv2d(3, 128, kernel_size=(3, 3), stride=(1, 1), padding=(1, 1))\n",
       "  (down): ModuleList(\n",
       "    (0): Module(\n",
       "      (block): ModuleList(\n",
       "        (0): ResnetBlock(\n",
       "          (norm1): GroupNorm(32, 128, eps=1e-06, affine=True)\n",
       "          (conv1): Conv2d(128, 128, kernel_size=(3, 3), stride=(1, 1), padding=(1, 1))\n",
       "          (norm2): GroupNorm(32, 128, eps=1e-06, affine=True)\n",
       "          (dropout): Dropout(p=0.0, inplace=False)\n",
       "          (conv2): Conv2d(128, 128, kernel_size=(3, 3), stride=(1, 1), padding=(1, 1))\n",
       "        )\n",
       "        (1): ResnetBlock(\n",
       "          (norm1): GroupNorm(32, 128, eps=1e-06, affine=True)\n",
       "          (conv1): Conv2d(128, 128, kernel_size=(3, 3), stride=(1, 1), padding=(1, 1))\n",
       "          (norm2): GroupNorm(32, 128, eps=1e-06, affine=True)\n",
       "          (dropout): Dropout(p=0.0, inplace=False)\n",
       "          (conv2): Conv2d(128, 128, kernel_size=(3, 3), stride=(1, 1), padding=(1, 1))\n",
       "        )\n",
       "      )\n",
       "      (attn): ModuleList()\n",
       "      (downsample): Downsample(\n",
       "        (conv): Conv2d(128, 128, kernel_size=(3, 3), stride=(2, 2))\n",
       "      )\n",
       "    )\n",
       "    (1): Module(\n",
       "      (block): ModuleList(\n",
       "        (0): ResnetBlock(\n",
       "          (norm1): GroupNorm(32, 128, eps=1e-06, affine=True)\n",
       "          (conv1): Conv2d(128, 128, kernel_size=(3, 3), stride=(1, 1), padding=(1, 1))\n",
       "          (norm2): GroupNorm(32, 128, eps=1e-06, affine=True)\n",
       "          (dropout): Dropout(p=0.0, inplace=False)\n",
       "          (conv2): Conv2d(128, 128, kernel_size=(3, 3), stride=(1, 1), padding=(1, 1))\n",
       "        )\n",
       "        (1): ResnetBlock(\n",
       "          (norm1): GroupNorm(32, 128, eps=1e-06, affine=True)\n",
       "          (conv1): Conv2d(128, 128, kernel_size=(3, 3), stride=(1, 1), padding=(1, 1))\n",
       "          (norm2): GroupNorm(32, 128, eps=1e-06, affine=True)\n",
       "          (dropout): Dropout(p=0.0, inplace=False)\n",
       "          (conv2): Conv2d(128, 128, kernel_size=(3, 3), stride=(1, 1), padding=(1, 1))\n",
       "        )\n",
       "      )\n",
       "      (attn): ModuleList()\n",
       "      (downsample): Downsample(\n",
       "        (conv): Conv2d(128, 128, kernel_size=(3, 3), stride=(2, 2))\n",
       "      )\n",
       "    )\n",
       "    (2): Module(\n",
       "      (block): ModuleList(\n",
       "        (0): ResnetBlock(\n",
       "          (norm1): GroupNorm(32, 128, eps=1e-06, affine=True)\n",
       "          (conv1): Conv2d(128, 256, kernel_size=(3, 3), stride=(1, 1), padding=(1, 1))\n",
       "          (norm2): GroupNorm(32, 256, eps=1e-06, affine=True)\n",
       "          (dropout): Dropout(p=0.0, inplace=False)\n",
       "          (conv2): Conv2d(256, 256, kernel_size=(3, 3), stride=(1, 1), padding=(1, 1))\n",
       "          (nin_shortcut): Conv2d(128, 256, kernel_size=(1, 1), stride=(1, 1))\n",
       "        )\n",
       "        (1): ResnetBlock(\n",
       "          (norm1): GroupNorm(32, 256, eps=1e-06, affine=True)\n",
       "          (conv1): Conv2d(256, 256, kernel_size=(3, 3), stride=(1, 1), padding=(1, 1))\n",
       "          (norm2): GroupNorm(32, 256, eps=1e-06, affine=True)\n",
       "          (dropout): Dropout(p=0.0, inplace=False)\n",
       "          (conv2): Conv2d(256, 256, kernel_size=(3, 3), stride=(1, 1), padding=(1, 1))\n",
       "        )\n",
       "      )\n",
       "      (attn): ModuleList()\n",
       "      (downsample): Downsample(\n",
       "        (conv): Conv2d(256, 256, kernel_size=(3, 3), stride=(2, 2))\n",
       "      )\n",
       "    )\n",
       "    (3): Module(\n",
       "      (block): ModuleList(\n",
       "        (0): ResnetBlock(\n",
       "          (norm1): GroupNorm(32, 256, eps=1e-06, affine=True)\n",
       "          (conv1): Conv2d(256, 256, kernel_size=(3, 3), stride=(1, 1), padding=(1, 1))\n",
       "          (norm2): GroupNorm(32, 256, eps=1e-06, affine=True)\n",
       "          (dropout): Dropout(p=0.0, inplace=False)\n",
       "          (conv2): Conv2d(256, 256, kernel_size=(3, 3), stride=(1, 1), padding=(1, 1))\n",
       "        )\n",
       "        (1): ResnetBlock(\n",
       "          (norm1): GroupNorm(32, 256, eps=1e-06, affine=True)\n",
       "          (conv1): Conv2d(256, 256, kernel_size=(3, 3), stride=(1, 1), padding=(1, 1))\n",
       "          (norm2): GroupNorm(32, 256, eps=1e-06, affine=True)\n",
       "          (dropout): Dropout(p=0.0, inplace=False)\n",
       "          (conv2): Conv2d(256, 256, kernel_size=(3, 3), stride=(1, 1), padding=(1, 1))\n",
       "        )\n",
       "      )\n",
       "      (attn): ModuleList()\n",
       "      (downsample): Downsample(\n",
       "        (conv): Conv2d(256, 256, kernel_size=(3, 3), stride=(2, 2))\n",
       "      )\n",
       "    )\n",
       "    (4): Module(\n",
       "      (block): ModuleList(\n",
       "        (0): ResnetBlock(\n",
       "          (norm1): GroupNorm(32, 256, eps=1e-06, affine=True)\n",
       "          (conv1): Conv2d(256, 512, kernel_size=(3, 3), stride=(1, 1), padding=(1, 1))\n",
       "          (norm2): GroupNorm(32, 512, eps=1e-06, affine=True)\n",
       "          (dropout): Dropout(p=0.0, inplace=False)\n",
       "          (conv2): Conv2d(512, 512, kernel_size=(3, 3), stride=(1, 1), padding=(1, 1))\n",
       "          (nin_shortcut): Conv2d(256, 512, kernel_size=(1, 1), stride=(1, 1))\n",
       "        )\n",
       "        (1): ResnetBlock(\n",
       "          (norm1): GroupNorm(32, 512, eps=1e-06, affine=True)\n",
       "          (conv1): Conv2d(512, 512, kernel_size=(3, 3), stride=(1, 1), padding=(1, 1))\n",
       "          (norm2): GroupNorm(32, 512, eps=1e-06, affine=True)\n",
       "          (dropout): Dropout(p=0.0, inplace=False)\n",
       "          (conv2): Conv2d(512, 512, kernel_size=(3, 3), stride=(1, 1), padding=(1, 1))\n",
       "        )\n",
       "      )\n",
       "      (attn): ModuleList(\n",
       "        (0): AttnBlock(\n",
       "          (norm): GroupNorm(32, 512, eps=1e-06, affine=True)\n",
       "          (q): Conv2d(512, 512, kernel_size=(1, 1), stride=(1, 1))\n",
       "          (k): Conv2d(512, 512, kernel_size=(1, 1), stride=(1, 1))\n",
       "          (v): Conv2d(512, 512, kernel_size=(1, 1), stride=(1, 1))\n",
       "          (proj_out): Conv2d(512, 512, kernel_size=(1, 1), stride=(1, 1))\n",
       "        )\n",
       "        (1): AttnBlock(\n",
       "          (norm): GroupNorm(32, 512, eps=1e-06, affine=True)\n",
       "          (q): Conv2d(512, 512, kernel_size=(1, 1), stride=(1, 1))\n",
       "          (k): Conv2d(512, 512, kernel_size=(1, 1), stride=(1, 1))\n",
       "          (v): Conv2d(512, 512, kernel_size=(1, 1), stride=(1, 1))\n",
       "          (proj_out): Conv2d(512, 512, kernel_size=(1, 1), stride=(1, 1))\n",
       "        )\n",
       "      )\n",
       "    )\n",
       "  )\n",
       "  (mid): Module(\n",
       "    (block_1): ResnetBlock(\n",
       "      (norm1): GroupNorm(32, 512, eps=1e-06, affine=True)\n",
       "      (conv1): Conv2d(512, 512, kernel_size=(3, 3), stride=(1, 1), padding=(1, 1))\n",
       "      (norm2): GroupNorm(32, 512, eps=1e-06, affine=True)\n",
       "      (dropout): Dropout(p=0.0, inplace=False)\n",
       "      (conv2): Conv2d(512, 512, kernel_size=(3, 3), stride=(1, 1), padding=(1, 1))\n",
       "    )\n",
       "    (attn_1): AttnBlock(\n",
       "      (norm): GroupNorm(32, 512, eps=1e-06, affine=True)\n",
       "      (q): Conv2d(512, 512, kernel_size=(1, 1), stride=(1, 1))\n",
       "      (k): Conv2d(512, 512, kernel_size=(1, 1), stride=(1, 1))\n",
       "      (v): Conv2d(512, 512, kernel_size=(1, 1), stride=(1, 1))\n",
       "      (proj_out): Conv2d(512, 512, kernel_size=(1, 1), stride=(1, 1))\n",
       "    )\n",
       "    (block_2): ResnetBlock(\n",
       "      (norm1): GroupNorm(32, 512, eps=1e-06, affine=True)\n",
       "      (conv1): Conv2d(512, 512, kernel_size=(3, 3), stride=(1, 1), padding=(1, 1))\n",
       "      (norm2): GroupNorm(32, 512, eps=1e-06, affine=True)\n",
       "      (dropout): Dropout(p=0.0, inplace=False)\n",
       "      (conv2): Conv2d(512, 512, kernel_size=(3, 3), stride=(1, 1), padding=(1, 1))\n",
       "    )\n",
       "  )\n",
       "  (norm_out): GroupNorm(32, 512, eps=1e-06, affine=True)\n",
       "  (conv_out): Conv2d(512, 256, kernel_size=(3, 3), stride=(1, 1), padding=(1, 1))\n",
       ")"
      ]
     },
     "execution_count": 86,
     "metadata": {},
     "output_type": "execute_result"
    }
   ],
   "source": [
    "vqgan.encoder"
   ]
  },
  {
   "cell_type": "code",
   "execution_count": 29,
   "id": "11be5890",
   "metadata": {},
   "outputs": [],
   "source": [
    "decoded = clamp_with_grad(vqgan.decode(vq_z).add(1).div(2), 0, 1)"
   ]
  },
  {
   "cell_type": "code",
   "execution_count": 84,
   "id": "a127723a",
   "metadata": {},
   "outputs": [
    {
     "data": {
      "image/png": "[encoded data removed]",
      "text/plain": [
       "<PIL.Image.Image image mode=RGB size=128x128 at 0x7FBAC06FAF40>"
      ]
     },
     "execution_count": 84,
     "metadata": {},
     "output_type": "execute_result"
    }
   ],
   "source": [
    "import PIL\n",
    "\n",
    "\n",
    "image_numpy = decoded2[2].view(224,224,3).cpu().detach().numpy()\n",
    "\n",
    "\n",
    "PIL.Image.fromarray(np.uint8(image_numpy*255)[:128,:128])"
   ]
  },
  {
   "cell_type": "markdown",
   "id": "bda3eab8",
   "metadata": {},
   "source": [
    "import umap\n",
    "import matplotlib\n",
    "from matplotlib import pyplot as plt\n",
    "\n",
    "flatten_vq_z = vq_z.reshape(vq_z.shape[0],-1).cpu().detach().numpy()\n",
    "standard_embedding = umap.UMAP(random_state=23).fit_transform(flatten_vq_z)\n"
   ]
  },
  {
   "cell_type": "markdown",
   "id": "ac341366",
   "metadata": {},
   "source": [
    "c = ['r'] * sizes[0] + ['b'] * sizes[1] + ['g'] * sizes[2]\n",
    "plt.scatter(standard_embedding[:, 0], standard_embedding[:, 1], c=c, s=10, cmap='Spectral');"
   ]
  },
  {
   "cell_type": "code",
   "execution_count": 29,
   "id": "ae1fd6a1",
   "metadata": {},
   "outputs": [],
   "source": [
    "# normalized_artist_a = torch.stack([normalize(artist_sample) for artist_sample in artist_a])\n",
    "# normalized_artist_b = torch.stack([normalize(artist_sample) for artist_sample in artist_b])\n",
    "# normalized_artist_b = torch.stack([normalize(artist_sample) for artist_sample in artist_b])\n",
    "\n",
    "# artista_z, *_ = vqgan.encode(normalized_artist_a.to(device))\n",
    "# artistb_z, *_ = vqgan.encode(normalized_artist_b.to(device))\n",
    "\n",
    "# artista_z_q = vector_quantize(artista_z.movedim(1, 3), vqgan.quantize.embedding.weight).movedim(3, 1)\n",
    "# artistb_z_q = vector_quantize(artistb_z.movedim(1, 3), vqgan.quantize.embedding.weight).movedim(3, 1)\n",
    "\n",
    "# flattened_artista_z_q = artista_z_q.reshape(artista_z_q.shape[0],-1)\n",
    "# flattened_artistb_z_q = artistb_z_q.reshape(artistb_z_q.shape[0],-1)\n",
    "\n",
    "# artista_meandiff = flattened_artista_z_q.mean(axis=0)\n",
    "# artistb_meandiff = flattened_artistb_z_q.mean(axis=0)\n",
    "\n",
    "# artist_latent_codes = torch.vstack([flattened_artista_z_q, flattened_artistb_z_q]).cpu().detach().numpy()\n",
    "# standard_embedding = umap.UMAP(random_state=23).fit_transform(artist_latent_codes)\n",
    "\n",
    "# # flattened_artistb_z_q"
   ]
  },
  {
   "cell_type": "code",
   "execution_count": 30,
   "id": "6ed72191",
   "metadata": {},
   "outputs": [],
   "source": [
    "# img = random_gradient_image(224,224)\n",
    "# pil_image = img.convert('RGB')\n",
    "# pil_image = pil_image.resize((256, 256), Image.LANCZOS)\n",
    "# pil_tensor = TF.to_tensor(pil_image)\n",
    "# z, *_ = vqgan.encode(pil_tensor.to(device).unsqueeze(0) * 2 - 1)\n",
    "# z_q = vector_quantize(z.movedim(1, 3), vqgan.quantize.embedding.weight).movedim(3, 1)"
   ]
  },
  {
   "cell_type": "code",
   "execution_count": 31,
   "id": "18d29659",
   "metadata": {},
   "outputs": [],
   "source": [
    "# for name, module in vqgan.encoder.named_modules():\n",
    "#     print(name)"
   ]
  },
  {
   "cell_type": "code",
   "execution_count": 32,
   "id": "5b96311e",
   "metadata": {},
   "outputs": [],
   "source": [
    "# assist from https://web.stanford.edu/~nanbhas/blog/forward-hooks-pytorch/\n",
    "activations = {}\n",
    "gradients = {}\n",
    "def getActivation(name):\n",
    "    # the hook signature \n",
    "    def hook(model, input, output):\n",
    "        \n",
    "        output.requires_grad_(True)\n",
    "        output.retain_grad()\n",
    "        gradients[name] = output.grad\n",
    "        activations[name] = output.detach()\n",
    "    return hook"
   ]
  },
  {
   "cell_type": "code",
   "execution_count": 33,
   "id": "c86ba4c4",
   "metadata": {},
   "outputs": [],
   "source": [
    "vqgan_down_blocks = [down_block.block[0] for down_block in vqgan.encoder.down]\n",
    "vqgan_mid_blocks = [vqgan.encoder.mid.block_1, vqgan.encoder.mid.block_2]\n",
    "vqgan_blocks = vqgan_down_blocks[-1:] + vqgan_mid_blocks[-1:]\n",
    "# vqgan_blocks = [vqgan.encoder.conv_out]"
   ]
  },
  {
   "cell_type": "code",
   "execution_count": 34,
   "id": "a8a463b9",
   "metadata": {},
   "outputs": [],
   "source": [
    "hooks = []\n",
    "layers = vqgan_blocks\n",
    "layernames = np.concatenate([[f'ResNetBlock{i}' for i in range(0,len(vqgan_blocks))]], dtype=str)\n",
    "for l, n in zip(layers, layernames):\n",
    "    hooks.append(l.register_forward_hook(getActivation(n)))"
   ]
  },
  {
   "cell_type": "code",
   "execution_count": 35,
   "id": "cebc94c5",
   "metadata": {},
   "outputs": [],
   "source": [
    "class Hook:\n",
    "    \"\"\"Attaches to a module and records its activations and gradients.\"\"\"\n",
    "\n",
    "    def __init__(self, module: nn.Module):\n",
    "        self.data = None\n",
    "        self.hook = module.register_forward_hook(self.save_grad)\n",
    "        \n",
    "    def save_grad(self, module, input, output):\n",
    "        self.data = output\n",
    "        output.requires_grad_(True)\n",
    "        output.retain_grad()\n",
    "        \n",
    "    def __enter__(self):\n",
    "        return self\n",
    "    \n",
    "    def __exit__(self, exc_type, exc_value, exc_traceback):\n",
    "        self.hook.remove()\n",
    "        \n",
    "    @property\n",
    "    def activation(self) -> torch.Tensor:\n",
    "        return self.data\n",
    "    \n",
    "#     @property\n",
    "#     def gradient(self) -> torch.Tensor:\n",
    "#         return self.data.grad"
   ]
  },
  {
   "cell_type": "code",
   "execution_count": 36,
   "id": "febf4713",
   "metadata": {},
   "outputs": [],
   "source": [
    "def record_activations_for_image(image_tensor):\n",
    "    all_layer_activations = {}\n",
    "    for layer, name in zip(layers, layernames):\n",
    "        #layer_gradients = []\n",
    "        layer_activations = []\n",
    "        with Hook(layer) as hook:\n",
    "\n",
    "            # Do a forward and backward pass.\n",
    "            with torch.no_grad():\n",
    "                output,*_ = vqgan.encode((image_tensor).to(device))\n",
    "            #output.backward(text_tensor.unsqueeze(0))\n",
    "\n",
    "            #grad = hook.gradient.float()\n",
    "            act = hook.activation.float()\n",
    "            #layer_gradients.append(grad)\n",
    "            layer_activations.append(act)\n",
    "        #all_layer_gradients[name] = layer_gradients\n",
    "        all_layer_activations[name] = layer_activations\n",
    "    return all_layer_activations"
   ]
  },
  {
   "cell_type": "code",
   "execution_count": 37,
   "id": "c0906958",
   "metadata": {},
   "outputs": [
    {
     "data": {
      "text/plain": [
       "torch.Size([3, 3, 224, 224])"
      ]
     },
     "execution_count": 37,
     "metadata": {},
     "output_type": "execute_result"
    }
   ],
   "source": [
    "normalized_images.shape"
   ]
  },
  {
   "cell_type": "code",
   "execution_count": 39,
   "id": "ad93fb34",
   "metadata": {},
   "outputs": [],
   "source": [
    "\n",
    "all_layer_activations = record_activations_for_image(normalized_images)"
   ]
  },
  {
   "cell_type": "code",
   "execution_count": 40,
   "id": "c3dfd37b",
   "metadata": {},
   "outputs": [
    {
     "data": {
      "text/plain": [
       "dict_keys(['ResNetBlock0', 'ResNetBlock1'])"
      ]
     },
     "execution_count": 40,
     "metadata": {},
     "output_type": "execute_result"
    }
   ],
   "source": [
    "all_layer_activations.keys()"
   ]
  },
  {
   "cell_type": "code",
   "execution_count": 41,
   "id": "3cf937b8",
   "metadata": {},
   "outputs": [
    {
     "name": "stdout",
     "output_type": "stream",
     "text": [
      "torch.Size([3, 512, 14, 14])\n",
      "torch.Size([3, 512, 14, 14])\n"
     ]
    }
   ],
   "source": [
    "for key in all_layer_activations.keys():\n",
    "    print(all_layer_activations[key][0].shape)"
   ]
  },
  {
   "cell_type": "code",
   "execution_count": 42,
   "id": "b4dc2bef",
   "metadata": {},
   "outputs": [],
   "source": [
    "keys = list(all_layer_activations.keys())"
   ]
  },
  {
   "cell_type": "code",
   "execution_count": 46,
   "id": "3bde1bbf",
   "metadata": {},
   "outputs": [],
   "source": [
    "pca = PCA(n_components=2, svd_solver='full')\n",
    "\n",
    "from sklearn.preprocessing import StandardScaler\n",
    "scaler = StandardScaler()\n",
    "transformed_data = all_layer_activations[keys[0]][0].reshape(3,-1).cpu().detach().numpy()\n",
    "transformed_data = scaler.fit_transform(transformed_data)"
   ]
  },
  {
   "cell_type": "code",
   "execution_count": 47,
   "id": "a2d7a577",
   "metadata": {},
   "outputs": [],
   "source": [
    "pca_data = pca.fit_transform(transformed_data)"
   ]
  },
  {
   "cell_type": "code",
   "execution_count": 48,
   "id": "b9ac7310",
   "metadata": {},
   "outputs": [],
   "source": [
    "import matplotlib \n",
    "from matplotlib import pyplot as plt\n",
    "\n"
   ]
  },
  {
   "cell_type": "code",
   "execution_count": 50,
   "id": "c78a48e3",
   "metadata": {},
   "outputs": [
    {
     "data": {
      "image/png": "[encoded data removed]",
      "text/plain": [
       "<Figure size 432x288 with 1 Axes>"
      ]
     },
     "metadata": {
      "needs_background": "light"
     },
     "output_type": "display_data"
    }
   ],
   "source": [
    "#c = ['r'] * sizes[0] + ['b'] * sizes[1] + ['g'] * sizes[2]\n",
    "c = ['r'] * 1 + ['b'] * 1 + ['g'] * 1\n",
    "\n",
    "plt.scatter(pca_data[:, 0], pca_data[:, 1], c=c, s=10, cmap='Spectral');"
   ]
  },
  {
   "cell_type": "code",
   "execution_count": 51,
   "id": "16600449",
   "metadata": {},
   "outputs": [],
   "source": [
    "pca_data = pca.fit_transform(scaler.transform(transformed_data))"
   ]
  },
  {
   "cell_type": "code",
   "execution_count": 52,
   "id": "73d9256d",
   "metadata": {},
   "outputs": [],
   "source": [
    "# pca_data"
   ]
  },
  {
   "cell_type": "code",
   "execution_count": 53,
   "id": "59cde101",
   "metadata": {},
   "outputs": [],
   "source": [
    "starting_vector = pca.inverse_transform([-100,-50]).reshape(512,14,14)"
   ]
  },
  {
   "cell_type": "code",
   "execution_count": 47,
   "id": "24ea2d80",
   "metadata": {},
   "outputs": [
    {
     "ename": "TypeError",
     "evalue": "forward() missing 1 required positional argument: 'temb'",
     "output_type": "error",
     "traceback": [
      "\u001b[0;31m---------------------------------------------------------------------------\u001b[0m",
      "\u001b[0;31mTypeError\u001b[0m                                 Traceback (most recent call last)",
      "\u001b[0;32m/tmp/ipykernel_108/675700848.py\u001b[0m in \u001b[0;36m<module>\u001b[0;34m\u001b[0m\n\u001b[0;32m----> 1\u001b[0;31m \u001b[0mvqgan\u001b[0m\u001b[0;34m.\u001b[0m\u001b[0mencoder\u001b[0m\u001b[0;34m.\u001b[0m\u001b[0mmid\u001b[0m\u001b[0;34m.\u001b[0m\u001b[0mblock_2\u001b[0m\u001b[0;34m(\u001b[0m\u001b[0mtorch\u001b[0m\u001b[0;34m.\u001b[0m\u001b[0mTensor\u001b[0m\u001b[0;34m(\u001b[0m\u001b[0mstarting_vector\u001b[0m\u001b[0;34m)\u001b[0m\u001b[0;34m.\u001b[0m\u001b[0munsqueeze\u001b[0m\u001b[0;34m(\u001b[0m\u001b[0;36m0\u001b[0m\u001b[0;34m)\u001b[0m\u001b[0;34m)\u001b[0m\u001b[0;34m\u001b[0m\u001b[0;34m\u001b[0m\u001b[0m\n\u001b[0m",
      "\u001b[0;32m~/anaconda3/envs/replearn/lib/python3.9/site-packages/torch/nn/modules/module.py\u001b[0m in \u001b[0;36m_call_impl\u001b[0;34m(self, *input, **kwargs)\u001b[0m\n\u001b[1;32m    887\u001b[0m             \u001b[0mresult\u001b[0m \u001b[0;34m=\u001b[0m \u001b[0mself\u001b[0m\u001b[0;34m.\u001b[0m\u001b[0m_slow_forward\u001b[0m\u001b[0;34m(\u001b[0m\u001b[0;34m*\u001b[0m\u001b[0minput\u001b[0m\u001b[0;34m,\u001b[0m \u001b[0;34m**\u001b[0m\u001b[0mkwargs\u001b[0m\u001b[0;34m)\u001b[0m\u001b[0;34m\u001b[0m\u001b[0;34m\u001b[0m\u001b[0m\n\u001b[1;32m    888\u001b[0m         \u001b[0;32melse\u001b[0m\u001b[0;34m:\u001b[0m\u001b[0;34m\u001b[0m\u001b[0;34m\u001b[0m\u001b[0m\n\u001b[0;32m--> 889\u001b[0;31m             \u001b[0mresult\u001b[0m \u001b[0;34m=\u001b[0m \u001b[0mself\u001b[0m\u001b[0;34m.\u001b[0m\u001b[0mforward\u001b[0m\u001b[0;34m(\u001b[0m\u001b[0;34m*\u001b[0m\u001b[0minput\u001b[0m\u001b[0;34m,\u001b[0m \u001b[0;34m**\u001b[0m\u001b[0mkwargs\u001b[0m\u001b[0;34m)\u001b[0m\u001b[0;34m\u001b[0m\u001b[0;34m\u001b[0m\u001b[0m\n\u001b[0m\u001b[1;32m    890\u001b[0m         for hook in itertools.chain(\n\u001b[1;32m    891\u001b[0m                 \u001b[0m_global_forward_hooks\u001b[0m\u001b[0;34m.\u001b[0m\u001b[0mvalues\u001b[0m\u001b[0;34m(\u001b[0m\u001b[0;34m)\u001b[0m\u001b[0;34m,\u001b[0m\u001b[0;34m\u001b[0m\u001b[0;34m\u001b[0m\u001b[0m\n",
      "\u001b[0;31mTypeError\u001b[0m: forward() missing 1 required positional argument: 'temb'"
     ]
    }
   ],
   "source": [
    "vqgan.encoder.mid.block_2(torch.Tensor(starting_vector).unsqueeze(0))"
   ]
  },
  {
   "cell_type": "code",
   "execution_count": 55,
   "id": "ef002474",
   "metadata": {},
   "outputs": [
    {
     "data": {
      "text/plain": [
       "(512, 14, 14)"
      ]
     },
     "execution_count": 55,
     "metadata": {},
     "output_type": "execute_result"
    }
   ],
   "source": [
    "starting_vector.shape"
   ]
  },
  {
   "cell_type": "code",
   "execution_count": 56,
   "id": "c5e52996",
   "metadata": {},
   "outputs": [
    {
     "ename": "AttributeError",
     "evalue": "'VQModel' object has no attribute 'mid'",
     "output_type": "error",
     "traceback": [
      "\u001b[0;31m---------------------------------------------------------------------------\u001b[0m",
      "\u001b[0;31mAttributeError\u001b[0m                            Traceback (most recent call last)",
      "\u001b[0;32m/tmp/ipykernel_312/238000152.py\u001b[0m in \u001b[0;36m<module>\u001b[0;34m\u001b[0m\n\u001b[0;32m----> 1\u001b[0;31m \u001b[0mvqgan\u001b[0m\u001b[0;34m.\u001b[0m\u001b[0mmid\u001b[0m\u001b[0;34m.\u001b[0m\u001b[0mnorm_out\u001b[0m\u001b[0;34m\u001b[0m\u001b[0;34m\u001b[0m\u001b[0m\n\u001b[0m",
      "\u001b[0;32m~/anaconda3/envs/replearn/lib/python3.9/site-packages/torch/nn/modules/module.py\u001b[0m in \u001b[0;36m__getattr__\u001b[0;34m(self, name)\u001b[0m\n\u001b[1;32m    945\u001b[0m             \u001b[0;32mif\u001b[0m \u001b[0mname\u001b[0m \u001b[0;32min\u001b[0m \u001b[0mmodules\u001b[0m\u001b[0;34m:\u001b[0m\u001b[0;34m\u001b[0m\u001b[0;34m\u001b[0m\u001b[0m\n\u001b[1;32m    946\u001b[0m                 \u001b[0;32mreturn\u001b[0m \u001b[0mmodules\u001b[0m\u001b[0;34m[\u001b[0m\u001b[0mname\u001b[0m\u001b[0;34m]\u001b[0m\u001b[0;34m\u001b[0m\u001b[0;34m\u001b[0m\u001b[0m\n\u001b[0;32m--> 947\u001b[0;31m         raise AttributeError(\"'{}' object has no attribute '{}'\".format(\n\u001b[0m\u001b[1;32m    948\u001b[0m             type(self).__name__, name))\n\u001b[1;32m    949\u001b[0m \u001b[0;34m\u001b[0m\u001b[0m\n",
      "\u001b[0;31mAttributeError\u001b[0m: 'VQModel' object has no attribute 'mid'"
     ]
    }
   ],
   "source": [
    "vqgan.mid.norm_out(s)"
   ]
  },
  {
   "cell_type": "code",
   "execution_count": null,
   "id": "69aebf35",
   "metadata": {},
   "outputs": [],
   "source": [
    "vqgan.encoder.norm_out(torch.Tensor(starting_vector).unsqueeze(0))"
   ]
  },
  {
   "cell_type": "code",
   "execution_count": null,
   "id": "16c651aa",
   "metadata": {},
   "outputs": [],
   "source": []
  },
  {
   "cell_type": "code",
   "execution_count": null,
   "id": "c7bad5db",
   "metadata": {},
   "outputs": [],
   "source": []
  }
 ],
 "metadata": {
  "kernelspec": {
   "display_name": "Python 3 (ipykernel)",
   "language": "python",
   "name": "python3"
  },
  "language_info": {
   "codemirror_mode": {
    "name": "ipython",
    "version": 3
   },
   "file_extension": ".py",
   "mimetype": "text/x-python",
   "name": "python",
   "nbconvert_exporter": "python",
   "pygments_lexer": "ipython3",
   "version": "3.9.7"
  }
 },
 "nbformat": 4,
 "nbformat_minor": 5
}
